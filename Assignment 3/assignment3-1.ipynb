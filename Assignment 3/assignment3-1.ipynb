{
  "nbformat": 4,
  "nbformat_minor": 0,
  "metadata": {
    "colab": {
      "provenance": [],
      "authorship_tag": "ABX9TyMHYijFOxw4gXHnQFXiMZ9K"
    },
    "kernelspec": {
      "name": "python3",
      "display_name": "Python 3"
    },
    "language_info": {
      "name": "python"
    }
  },
  "cells": [
    {
      "cell_type": "code",
      "source": [
        "!pip install pandas scikit-learn"
      ],
      "metadata": {
        "id": "EYfZ5TlR8861",
        "outputId": "25a53674-f17d-4b90-9dd0-ac5a0b8d8236",
        "colab": {
          "base_uri": "https://localhost:8080/"
        }
      },
      "execution_count": 25,
      "outputs": [
        {
          "output_type": "stream",
          "name": "stdout",
          "text": [
            "Requirement already satisfied: pandas in /usr/local/lib/python3.11/dist-packages (2.2.2)\n",
            "Requirement already satisfied: scikit-learn in /usr/local/lib/python3.11/dist-packages (1.6.1)\n",
            "Requirement already satisfied: numpy>=1.23.2 in /usr/local/lib/python3.11/dist-packages (from pandas) (1.26.4)\n",
            "Requirement already satisfied: python-dateutil>=2.8.2 in /usr/local/lib/python3.11/dist-packages (from pandas) (2.8.2)\n",
            "Requirement already satisfied: pytz>=2020.1 in /usr/local/lib/python3.11/dist-packages (from pandas) (2025.1)\n",
            "Requirement already satisfied: tzdata>=2022.7 in /usr/local/lib/python3.11/dist-packages (from pandas) (2025.1)\n",
            "Requirement already satisfied: scipy>=1.6.0 in /usr/local/lib/python3.11/dist-packages (from scikit-learn) (1.14.1)\n",
            "Requirement already satisfied: joblib>=1.2.0 in /usr/local/lib/python3.11/dist-packages (from scikit-learn) (1.4.2)\n",
            "Requirement already satisfied: threadpoolctl>=3.1.0 in /usr/local/lib/python3.11/dist-packages (from scikit-learn) (3.5.0)\n",
            "Requirement already satisfied: six>=1.5 in /usr/local/lib/python3.11/dist-packages (from python-dateutil>=2.8.2->pandas) (1.17.0)\n"
          ]
        }
      ]
    },
    {
      "cell_type": "code",
      "source": [
        "# imports\n",
        "import pandas as pd\n",
        "from sklearn.neighbors import LocalOutlierFactor\n",
        "from sklearn.linear_model import LinearRegression\n",
        "from sklearn.model_selection import cross_val_score, train_test_split"
      ],
      "metadata": {
        "id": "e-XCJc8g9CQy"
      },
      "execution_count": 26,
      "outputs": []
    },
    {
      "cell_type": "markdown",
      "source": [
        "# **Assignment 3 - Dataset 1: Regression**"
      ],
      "metadata": {
        "id": "eptzrY_tzDP9"
      }
    },
    {
      "cell_type": "markdown",
      "source": [
        "Group: #45\n",
        "\n",
        "Isaac Lafond - 300191954"
      ],
      "metadata": {
        "id": "eElETcuU8xQ1"
      }
    },
    {
      "cell_type": "markdown",
      "source": [
        "**Introduction:**\n",
        "\n",
        "This notebook overview steps for a predictive analysis of house prices based on the dataset detailed below. The steps required in achieving the predictive analysis are broken down in sections with text and code block describing the step in question. Executing this notebook will show the results of the code blocks which implement the steps of the predictive analysis."
      ],
      "metadata": {
        "id": "imXm8oEA--PI"
      }
    },
    {
      "cell_type": "markdown",
      "source": [
        "**Dataset Description:**\n",
        "\n",
        "This dataset by Den Kuznetz, contains features which can affect the value of a property for the pupose of predicting property value based on these features. It contains several attributes such as square footage, the number of bedrooms, bathrooms, floors, the year the prpoperty was built, whether the property has a garden or pool, the size of the garage, the location score and the distance from the city center. The size values such as square footage and garage size are measured in square meters and the distance to center is measured in kilometers. The garden and pool indicator is shown as 1 for yes and 0 for no. Finally, the location score is a score from 0 to 10 indicating the quality of the neighbourhood (higher = better)."
      ],
      "metadata": {
        "id": "YHXvr3fV_L42"
      }
    },
    {
      "cell_type": "markdown",
      "source": [
        "## **Regression Empirical Study**"
      ],
      "metadata": {
        "id": "WRn5Xlr-_ZQb"
      }
    },
    {
      "cell_type": "code",
      "execution_count": 27,
      "metadata": {
        "id": "kkpi24Vly9I9"
      },
      "outputs": [],
      "source": [
        "df = pd.read_csv(\"https://raw.githubusercontent.com/IsaacLafond/CSI-4142---Fundamentals-of-Data-Science/main/Assignment%203/datasets/real_estate_dataset.csv\")"
      ]
    },
    {
      "cell_type": "markdown",
      "source": [
        "### **a) Cleaning the data**"
      ],
      "metadata": {
        "id": "4uB9dWbT_kB9"
      }
    },
    {
      "cell_type": "markdown",
      "source": [
        "Here we apply checks for the presence of errors that would require cleaning/imputation.\n",
        "\n",
        "True = all values pass the check\n",
        "\n",
        "False = not all values pass the check\n",
        "\n",
        "\\* unless indicated diffrently in the results output"
      ],
      "metadata": {
        "id": "4yosltC4HSLY"
      }
    },
    {
      "cell_type": "code",
      "source": [
        "# 1 - Data type check\n",
        "\n",
        "# iterate over each column in the dataframe df and ensure that each value in the column is of the correct data type\n",
        "for column in df.columns:\n",
        "  column_type = df[column].dtype\n",
        "  print(f\"{column}: {df[column].apply(lambda x: type(x) == column_type).all()}\")"
      ],
      "metadata": {
        "id": "qgSC8NC0kKIZ",
        "outputId": "eb0e6dfd-5d68-492a-e706-09ba512789dc",
        "colab": {
          "base_uri": "https://localhost:8080/"
        }
      },
      "execution_count": 28,
      "outputs": [
        {
          "output_type": "stream",
          "name": "stdout",
          "text": [
            "ID: True\n",
            "Square_Feet: True\n",
            "Num_Bedrooms: True\n",
            "Num_Bathrooms: True\n",
            "Num_Floors: True\n",
            "Year_Built: True\n",
            "Has_Garden: True\n",
            "Has_Pool: True\n",
            "Garage_Size: True\n",
            "Location_Score: True\n",
            "Distance_to_Center: True\n",
            "Price: True\n"
          ]
        }
      ]
    },
    {
      "cell_type": "code",
      "source": [
        "# 2 - Range check\n",
        "# Create numrange class with min and max and default is infinite range\n",
        "# define contains functions so that \"in\" check return true in between min and max\n",
        "class NumRange:\n",
        "  def __init__(self, min=float('-inf'), max=float('inf')):\n",
        "    self.min = min\n",
        "    self.max = max\n",
        "  def __contains__(self, x):\n",
        "    return self.min <= x <= self.max\n",
        "\n",
        "# parameters = column name: expected range\n",
        "params = {\n",
        "    'ID': NumRange(1, 500),\n",
        "    'Square_Feet': NumRange(),\n",
        "    'Num_Bedrooms': NumRange(),\n",
        "    'Num_Bathrooms': NumRange(),\n",
        "    'Num_Floors': NumRange(),\n",
        "    'Year_Built': NumRange(0, 2025),\n",
        "    'Has_Garden': NumRange(0, 1),\n",
        "    'Has_Pool': NumRange(0, 1),\n",
        "    'Garage_Size': NumRange(),\n",
        "    'Location_Score': NumRange(0, 10),\n",
        "    'Distance_to_Center': NumRange(),\n",
        "    'Price': NumRange()\n",
        "}\n",
        "\n",
        "# iterate over each column and very that each value in the column is withing the given range in params\n",
        "for column in df.columns:\n",
        "  print(f\"{column}: {df[column].apply(lambda x: x in params[column]).all()}\")"
      ],
      "metadata": {
        "id": "NMU7uwUokg5F",
        "outputId": "98dbf396-bdb8-4995-fc55-c1e51c239a5c",
        "colab": {
          "base_uri": "https://localhost:8080/"
        }
      },
      "execution_count": 29,
      "outputs": [
        {
          "output_type": "stream",
          "name": "stdout",
          "text": [
            "ID: True\n",
            "Square_Feet: True\n",
            "Num_Bedrooms: True\n",
            "Num_Bathrooms: True\n",
            "Num_Floors: True\n",
            "Year_Built: True\n",
            "Has_Garden: True\n",
            "Has_Pool: True\n",
            "Garage_Size: True\n",
            "Location_Score: True\n",
            "Distance_to_Center: True\n",
            "Price: True\n"
          ]
        }
      ]
    },
    {
      "cell_type": "code",
      "source": [
        "# 3 - Format check\n",
        "# regex for an integer of any number\n",
        "integer_regex = '^\\d+$'\n",
        "# regex for any floating point number\n",
        "float_regex = '^\\d+\\.\\d+$'\n",
        "# regex for integer that is binary that is can only be 0 or 1\n",
        "binary_regex = '^(0|1)$'\n",
        "# regex for a year list as YYYY that cant be more than 2025\n",
        "year_regex = '^\\d{4}$'\n",
        "\n",
        "# parameters = column name: expected pattern\n",
        "params = {\n",
        "    'ID': integer_regex,\n",
        "    'Square_Feet': float_regex,\n",
        "    'Num_Bedrooms': integer_regex,\n",
        "    'Num_Bathrooms': integer_regex,\n",
        "    'Num_Floors': integer_regex,\n",
        "    'Year_Built': year_regex,\n",
        "    'Has_Garden': binary_regex,\n",
        "    'Has_Pool': binary_regex,\n",
        "    'Garage_Size': integer_regex,\n",
        "    'Location_Score': float_regex,\n",
        "    'Distance_to_Center': float_regex,\n",
        "    'Price': float_regex\n",
        "}\n",
        "\n",
        "# iterate over each column in the dataframe and ensure each value matches the corresponding regex in param\n",
        "for column in df.columns:\n",
        "  # check if each value in the column matches the regex in params\n",
        "  print(f\"{column}: {df[column].astype(str).str.match(params[column]).all()}\")"
      ],
      "metadata": {
        "id": "47urbJnekhIw",
        "outputId": "4864301b-87c8-48c9-9f03-49e6d13bb4b8",
        "colab": {
          "base_uri": "https://localhost:8080/"
        }
      },
      "execution_count": 30,
      "outputs": [
        {
          "output_type": "stream",
          "name": "stdout",
          "text": [
            "ID: True\n",
            "Square_Feet: True\n",
            "Num_Bedrooms: True\n",
            "Num_Bathrooms: True\n",
            "Num_Floors: True\n",
            "Year_Built: True\n",
            "Has_Garden: True\n",
            "Has_Pool: True\n",
            "Garage_Size: True\n",
            "Location_Score: True\n",
            "Distance_to_Center: True\n",
            "Price: True\n"
          ]
        }
      ]
    },
    {
      "cell_type": "code",
      "source": [
        "# 4 - Consistency check\n",
        "\n",
        "\"\"\"\n",
        "In this dataset none of the columns are logically linked.\n",
        "Therefore a consistency check is not needed.\n",
        "\"\"\"\n",
        "pass"
      ],
      "metadata": {
        "id": "AH1fYfPXkhb1"
      },
      "execution_count": 31,
      "outputs": []
    },
    {
      "cell_type": "code",
      "source": [
        "# 5 - Uniqueness check\n",
        "# check for uniqueness in values which are identifier\n",
        "# This dataset does not have email of usernames and ID is the only identfier\n",
        "# therefore id should have 500 unique values\n",
        "\n",
        "# define any int class for comparison that is always true\n",
        "class AnyNum:\n",
        "  def __eq__(self, x):\n",
        "    return True\n",
        "any_num = AnyNum()\n",
        "\n",
        "# parameter = column name: number of expected unique values\n",
        "params = {\n",
        "    'ID': 500,\n",
        "    'Square_Feet': any_num,\n",
        "    'Num_Bedrooms': any_num,\n",
        "    'Num_Bathrooms': any_num,\n",
        "    'Num_Floors': any_num,\n",
        "    'Year_Built': any_num,\n",
        "    'Has_Garden': any_num,\n",
        "    'Has_Pool': any_num,\n",
        "    'Garage_Size': any_num,\n",
        "    'Location_Score': any_num,\n",
        "    'Distance_to_Center': any_num,\n",
        "    'Price': any_num\n",
        "}\n",
        "\n",
        "# iterate over each column and print the number of unique values in the column\n",
        "for column in df.columns:\n",
        "  print(f\"{column}: {df[column].nunique() == params[column]}\")"
      ],
      "metadata": {
        "id": "VIggpwcRkhpy",
        "outputId": "1c2c7593-688a-4ea4-879d-6c9719f2de25",
        "colab": {
          "base_uri": "https://localhost:8080/"
        }
      },
      "execution_count": 32,
      "outputs": [
        {
          "output_type": "stream",
          "name": "stdout",
          "text": [
            "ID: True\n",
            "Square_Feet: True\n",
            "Num_Bedrooms: True\n",
            "Num_Bathrooms: True\n",
            "Num_Floors: True\n",
            "Year_Built: True\n",
            "Has_Garden: True\n",
            "Has_Pool: True\n",
            "Garage_Size: True\n",
            "Location_Score: True\n",
            "Distance_to_Center: True\n",
            "Price: True\n"
          ]
        }
      ]
    },
    {
      "cell_type": "code",
      "source": [
        "# 6 - Presence check\n",
        "\n",
        "# iterate over each column and verify that all values arent empty\n",
        "for column in df.columns:\n",
        "  print(f\"{column}: {df[column].notnull().any()}\")"
      ],
      "metadata": {
        "id": "pSnxnK5vkh3w",
        "outputId": "4811e47e-51df-4899-c085-50c8a333446f",
        "colab": {
          "base_uri": "https://localhost:8080/"
        }
      },
      "execution_count": 33,
      "outputs": [
        {
          "output_type": "stream",
          "name": "stdout",
          "text": [
            "ID: True\n",
            "Square_Feet: True\n",
            "Num_Bedrooms: True\n",
            "Num_Bathrooms: True\n",
            "Num_Floors: True\n",
            "Year_Built: True\n",
            "Has_Garden: True\n",
            "Has_Pool: True\n",
            "Garage_Size: True\n",
            "Location_Score: True\n",
            "Distance_to_Center: True\n",
            "Price: True\n"
          ]
        }
      ]
    },
    {
      "cell_type": "code",
      "source": [
        "# 7 - Length check\n",
        "# define a length range class to verify if length is in expected range\n",
        "class LengthRange:\n",
        "  def __init__(self, min=0, max=float('inf')):\n",
        "    self.min = min\n",
        "    self.max = max\n",
        "  def __contains__(self, x):\n",
        "    return self.min <= len(x) <= self.max\n",
        "any_length = LengthRange()\n",
        "\n",
        "# parameters = column name: expected value length\n",
        "params = {\n",
        "    'ID': LengthRange(1, 3),\n",
        "    'Square_Feet': any_length,\n",
        "    'Num_Bedrooms': any_length,\n",
        "    'Num_Bathrooms': any_length,\n",
        "    'Num_Floors': any_length,\n",
        "    'Year_Built': LengthRange(4, 4),\n",
        "    'Has_Garden': LengthRange(1, 1),\n",
        "    'Has_Pool': LengthRange(1, 1),\n",
        "    'Garage_Size': any_length,\n",
        "    'Location_Score': any_length,\n",
        "    'Distance_to_Center': any_length,\n",
        "    'Price': any_length\n",
        "}\n",
        "\n",
        "# iterate over each column and very that each value in the column is withing the given length range in params\n",
        "for column in df.columns:\n",
        "  print(f\"{column}: {df[column].astype(str).apply(lambda x: x in params[column]).all()}\")"
      ],
      "metadata": {
        "id": "7AH65tUjkiHL",
        "outputId": "25ac1636-e3d9-4b50-9606-8e59a76a0120",
        "colab": {
          "base_uri": "https://localhost:8080/"
        }
      },
      "execution_count": 34,
      "outputs": [
        {
          "output_type": "stream",
          "name": "stdout",
          "text": [
            "ID: True\n",
            "Square_Feet: True\n",
            "Num_Bedrooms: True\n",
            "Num_Bathrooms: True\n",
            "Num_Floors: True\n",
            "Year_Built: True\n",
            "Has_Garden: True\n",
            "Has_Pool: True\n",
            "Garage_Size: True\n",
            "Location_Score: True\n",
            "Distance_to_Center: True\n",
            "Price: True\n"
          ]
        }
      ]
    },
    {
      "cell_type": "code",
      "source": [
        "# 8 - Look-up check\n",
        "# this check verifies that all the values are in the allowed set of values for that column\n",
        "# for this test the only columns with a defined list of acceptable values is Has_Garden and Has_Pool (and IDs from 1-500)\n",
        "# define any list that always contains the value you verify\n",
        "class AnyList:\n",
        "  def __contains__(self, x):\n",
        "    return True\n",
        "any_list = AnyList()\n",
        "\n",
        "# parameters = column name: list of accepted values\n",
        "params = {\n",
        "    'ID': range(1, 501),\n",
        "    'Square_Feet': any_list,\n",
        "    'Num_Bedrooms': any_list,\n",
        "    'Num_Bathrooms': any_list,\n",
        "    'Num_Floors': any_list,\n",
        "    'Year_Built': any_list,\n",
        "    'Has_Garden': [0, 1],\n",
        "    'Has_Pool': [0, 1],\n",
        "    'Garage_Size': any_list,\n",
        "    'Location_Score': any_list,\n",
        "    'Distance_to_Center': any_list,\n",
        "    'Price': any_list\n",
        "}\n",
        "\n",
        "# iterate over each column and verify each of its values are in the list of acceptable values\n",
        "for column in df.columns:\n",
        "  print(f\"{column}: {df[column].apply(lambda x: x in params[column]).all()}\")"
      ],
      "metadata": {
        "id": "83x271Uski1J",
        "outputId": "d0d6a13b-cb39-4087-90d6-3fb13c9679bb",
        "colab": {
          "base_uri": "https://localhost:8080/"
        }
      },
      "execution_count": 35,
      "outputs": [
        {
          "output_type": "stream",
          "name": "stdout",
          "text": [
            "ID: True\n",
            "Square_Feet: True\n",
            "Num_Bedrooms: True\n",
            "Num_Bathrooms: True\n",
            "Num_Floors: True\n",
            "Year_Built: True\n",
            "Has_Garden: True\n",
            "Has_Pool: True\n",
            "Garage_Size: True\n",
            "Location_Score: True\n",
            "Distance_to_Center: True\n",
            "Price: True\n"
          ]
        }
      ]
    },
    {
      "cell_type": "code",
      "source": [
        "# 9 - Exact duplicate check\n",
        "\n",
        "# check for any exact duplicates in the dataset\n",
        "print(f\"Presence of exact duplicates: {df.duplicated().any()}\")\n",
        "\n",
        "# No exact duplicatesd found so do the same things ignoring the id column\n",
        "df_no_id = df.drop('ID', axis=1, inplace=False)\n",
        "print(f\"Presence of exact duplicates (omiting ID): {df.duplicated().any()}\")"
      ],
      "metadata": {
        "id": "WmTeyKHRkjE6",
        "colab": {
          "base_uri": "https://localhost:8080/"
        },
        "outputId": "4d6a3ebe-c495-4211-fd6e-752759c14041"
      },
      "execution_count": 36,
      "outputs": [
        {
          "output_type": "stream",
          "name": "stdout",
          "text": [
            "Presence of exact duplicates: False\n",
            "Presence of exact duplicates (omiting ID): False\n"
          ]
        }
      ]
    },
    {
      "cell_type": "code",
      "source": [
        "# 10 - Near duplicate check\n",
        "def close_enough(x, y, tolerance=0.001):\n",
        "  return abs(x - y) <= tolerance\n",
        "\n",
        "# is near duplicate function\n",
        "def near_duplicate(row, df, check_columns, params):\n",
        "  for _, other_row in df.iterrows():\n",
        "    if not row.equals(other_row):\n",
        "      # check that all are nearly identical\n",
        "      if all(close_enough(row[column], other_row[column], params[column]) for column in check_columns):\n",
        "        result = True # found a match return true\n",
        "  return False # no matches found return false\n",
        "\n",
        "\n",
        "# identical columns\n",
        "identical_columns = ['Num_Bedrooms', 'Num_Bathrooms', 'Num_Floors', 'Year_Built', 'Has_Garden', 'Has_Pool']\n",
        "\n",
        "# nearly identical columns\n",
        "nearly_identical_columns = ['ID', 'Square_Feet', 'Garage_Size', 'Location_Score', 'Distance_to_Center', 'Price']\n",
        "# params = column name: acceptable difference threshold\n",
        "params = {\n",
        "    'ID': float('inf'),\n",
        "    'Square_Feet': 0.5,\n",
        "    'Num_Bedrooms': 0,\n",
        "    'Num_Bathrooms': 0,\n",
        "    'Num_Floors': 0,\n",
        "    'Year_Built': 0,\n",
        "    'Has_Garden': 0,\n",
        "    'Has_Pool': 0,\n",
        "    'Garage_Size': 1,\n",
        "    'Location_Score': 0.5,\n",
        "    'Distance_to_Center': 0.5,\n",
        "    'Price': 5\n",
        "}\n",
        "\n",
        "# return new df dropping the id, square feet, garage size garage size, location score, distance to center and price\n",
        "mask = df.duplicated(subset=identical_columns, keep=False)\n",
        "df[mask]\n",
        "\n",
        "near_dupes = df[mask].apply(lambda x: near_duplicate(x, df[mask], nearly_identical_columns, params), axis=1)\n",
        "print(f\"Presence of near duplicates: {near_dupes.any()}\")"
      ],
      "metadata": {
        "id": "zU9qFOWVkjSZ",
        "colab": {
          "base_uri": "https://localhost:8080/"
        },
        "outputId": "89f257b9-b24e-4333-e630-87dfbeff1b7f"
      },
      "execution_count": 37,
      "outputs": [
        {
          "output_type": "stream",
          "name": "stdout",
          "text": [
            "Presence of near duplicates: False\n"
          ]
        }
      ]
    },
    {
      "cell_type": "markdown",
      "source": [
        "As we can see, based on the above test. This dataset is clean and won't require imputation based on these checks."
      ],
      "metadata": {
        "id": "An8ZSPf7bsLf"
      }
    },
    {
      "cell_type": "markdown",
      "source": [
        "### **b) Categorical feature encoding**"
      ],
      "metadata": {
        "id": "q_u4JKGC_qVb"
      }
    },
    {
      "cell_type": "markdown",
      "source": [
        "In this dataset, each value is a numerical value with the only exceptions being Has_Pool and Has_Garden. As these values are categorical, they're the only columns which would require one-hot encoding in order to be used in linear regression. However, this dataset has already one-hot encoded these values where the value yes is represented by 1 and no is represented by 0 (example: yes this house has a pool means Has_Pool=1) meaning additional encoding is not necessary for this dataset."
      ],
      "metadata": {
        "id": "V2gP45VBjKD9"
      }
    },
    {
      "cell_type": "markdown",
      "source": [
        "### **c) EDA and Outlier detection**"
      ],
      "metadata": {
        "id": "kPbVnnMAACf_"
      }
    },
    {
      "cell_type": "code",
      "source": [
        "# Create histogram plots for each dataset feature\n",
        "df.hist(bins=30, figsize=(10, 10)) # [1]"
      ],
      "metadata": {
        "colab": {
          "base_uri": "https://localhost:8080/",
          "height": 1000
        },
        "id": "vnHGmBL3kW3K",
        "outputId": "781dea27-62c8-42cd-bf0a-a6ed37855b26"
      },
      "execution_count": 38,
      "outputs": [
        {
          "output_type": "execute_result",
          "data": {
            "text/plain": [
              "array([[<Axes: title={'center': 'ID'}>,\n",
              "        <Axes: title={'center': 'Square_Feet'}>,\n",
              "        <Axes: title={'center': 'Num_Bedrooms'}>],\n",
              "       [<Axes: title={'center': 'Num_Bathrooms'}>,\n",
              "        <Axes: title={'center': 'Num_Floors'}>,\n",
              "        <Axes: title={'center': 'Year_Built'}>],\n",
              "       [<Axes: title={'center': 'Has_Garden'}>,\n",
              "        <Axes: title={'center': 'Has_Pool'}>,\n",
              "        <Axes: title={'center': 'Garage_Size'}>],\n",
              "       [<Axes: title={'center': 'Location_Score'}>,\n",
              "        <Axes: title={'center': 'Distance_to_Center'}>,\n",
              "        <Axes: title={'center': 'Price'}>]], dtype=object)"
            ]
          },
          "metadata": {},
          "execution_count": 38
        },
        {
          "output_type": "display_data",
          "data": {
            "text/plain": [
              "<Figure size 1000x1000 with 12 Axes>"
            ],
            "image/png": "[encoded data removed]"
          },
          "metadata": {}
        }
      ]
    },
    {
      "cell_type": "markdown",
      "source": [
        "Based on the histograms above, we can immediately rule out the ID column for LOF as all its value are unique. We can rule out applying LOF on Num_Bedrooms, Num_Bathrooms, Num_Floors,  Has_Garden and Has_Pool due to their limited values and their even distibution. Finally, each of the remaining features could benefit from LOF."
      ],
      "metadata": {
        "id": "AaEbQ4SgkWPI"
      }
    },
    {
      "cell_type": "code",
      "source": [
        "# LOC implementation [3]\n",
        "# select the subset of rows to take into account\n",
        "LOC_subset = ['Square_Feet', 'Year_Built', 'Garage_Size', 'Location_Score', 'Distance_to_Center', 'Price']\n",
        "# create a copy of the dataframe containing only the selected columns\n",
        "df_loc = df[LOC_subset].copy() # [2]\n",
        "\n",
        "# fit and predict LOF\n",
        "lof = LocalOutlierFactor(n_neighbors=20, contamination=0.05) # 20 neighbours and 5% contamination\n",
        "df_loc['LOF_Outliers'] = lof.fit_predict(df_loc)\n",
        "\n",
        "# map 1 to False not an outlier and -1 to True is an outlier to use as mask\n",
        "df_loc['LOF_Outliers'] = df_loc['LOF_Outliers'].map({1: False, -1: True})\n",
        "\n",
        "# Show histograms of values identified as outliers\n",
        "df_loc[df_loc['LOF_Outliers']].hist(bins=30, figsize=(10, 10))"
      ],
      "metadata": {
        "colab": {
          "base_uri": "https://localhost:8080/",
          "height": 957
        },
        "id": "GFoaR5xWmUbP",
        "outputId": "3d70842e-7013-4ee8-c0fe-a7a89a8ba3dc"
      },
      "execution_count": 46,
      "outputs": [
        {
          "output_type": "execute_result",
          "data": {
            "text/plain": [
              "array([[<Axes: title={'center': 'Square_Feet'}>,\n",
              "        <Axes: title={'center': 'Year_Built'}>],\n",
              "       [<Axes: title={'center': 'Garage_Size'}>,\n",
              "        <Axes: title={'center': 'Location_Score'}>],\n",
              "       [<Axes: title={'center': 'Distance_to_Center'}>,\n",
              "        <Axes: title={'center': 'Price'}>]], dtype=object)"
            ]
          },
          "metadata": {},
          "execution_count": 46
        },
        {
          "output_type": "display_data",
          "data": {
            "text/plain": [
              "<Figure size 1000x1000 with 6 Axes>"
            ],
            "image/png": "[encoded data removed]"
          },
          "metadata": {}
        }
      ]
    },
    {
      "cell_type": "markdown",
      "source": [
        "### **d) Predictive analysis: Linear Regression**"
      ],
      "metadata": {
        "id": "wwJYQFuaADqS"
      }
    },
    {
      "cell_type": "code",
      "source": [
        "# Implement a basic Linear Regression base model [4]\n",
        "# temporary copy of the dataframe\n",
        "df_temp = df.copy()\n",
        "# create the axis\n",
        "X = df_temp.drop('Price', axis=1)\n",
        "y = df_temp['Price']\n",
        "\n",
        "baseline_model = LinearRegression()\n",
        "baseline_scores = cross_val_score(baseline_model, X, y, cv=4, scoring='r2')\n",
        "\n",
        "# print the computed scores\n",
        "print(\"Baseline R2 Score:\", baseline_scores.mean())"
      ],
      "metadata": {
        "colab": {
          "base_uri": "https://localhost:8080/"
        },
        "id": "D87dRtpptxzu",
        "outputId": "00cd0587-b38b-4fcf-eb74-e1e4e4ead9c2"
      },
      "execution_count": 40,
      "outputs": [
        {
          "output_type": "stream",
          "name": "stdout",
          "text": [
            "Baseline R2 Score: 0.9744001290767969\n"
          ]
        }
      ]
    },
    {
      "cell_type": "markdown",
      "source": [
        "### **e) Feature Engineering**"
      ],
      "metadata": {
        "id": "JnCZB1DKAX7r"
      }
    },
    {
      "cell_type": "markdown",
      "source": [
        "The resulting R2 score for the baseline model already shows great results let's see if adding some features can boost this performance."
      ],
      "metadata": {
        "id": "iSToRMokUVMS"
      }
    },
    {
      "cell_type": "code",
      "source": [
        "# Create additional features\n",
        "\n",
        "def feature_engineering(df):\n",
        "  # add a house age column\n",
        "  df['House_Age'] = 2025 - df['Year_Built']\n",
        "  # add a rooms to floor ratio\n",
        "  df['Rooms_to_Floors'] = df['Num_Bedrooms'] + df['Num_Bathrooms'] / df['Num_Floors']\n",
        "  # add a location adjusted square footage\n",
        "  df['Square_Feet_Value'] = df['Square_Feet'] * df['Location_Score']\n",
        "  return df"
      ],
      "metadata": {
        "id": "wOuAASM2yoCM"
      },
      "execution_count": 41,
      "outputs": []
    },
    {
      "cell_type": "markdown",
      "source": [
        "### **f) Empirical study**"
      ],
      "metadata": {
        "id": "ZdLuVH2uAESO"
      }
    },
    {
      "cell_type": "code",
      "source": [
        "# Empirical study\n",
        "\n",
        "# 4-fold cross validation evaluation\n",
        "def evaluate_model(model, X, y):\n",
        "  scores = cross_val_score(model, X, y, cv=4, scoring='r2')\n",
        "  return scores.mean()\n",
        "\n",
        "# split the dataset (train, validate and test)\n",
        "train_val, test = train_test_split(df_temp, test_size=0.2, random_state=42)\n",
        "train, val = train_test_split(train_val, test_size=0.25, random_state=42) # 0.25 * 0.8 = 20%\n",
        "\n",
        "# Extract variable\n",
        "X_train = train.drop('Price', axis=1)\n",
        "y_train = train['Price']\n",
        "X_val = val.drop('Price', axis=1)\n",
        "y_val = val['Price']\n",
        "X_test = test.drop('Price', axis=1)\n",
        "y_test = test['Price']\n",
        "\n",
        "# define variable after LOF\n",
        "outliers = df_loc['LOF_Outliers']\n",
        "train_no_outliers = train[~outliers]\n",
        "X_train_no_outliers = train_no_outliers.drop('Price', axis=1)\n",
        "y_train_no_outliers = train_no_outliers['Price']\n",
        "\n",
        "# define variable after feature engineering\n",
        "X_train_eng = feature_engineering(X_train.copy())\n",
        "X_val_eng = feature_engineering(X_val.copy())\n",
        "X_test_eng = feature_engineering(X_test.copy())\n",
        "\n",
        "# define variable after LOF and feature engineering\n",
        "X_train_both = feature_engineering(X_train_no_outliers.copy())\n",
        "X_val_both = feature_engineering(X_val)\n",
        "\n",
        "# define model\n",
        "model = LinearRegression()\n",
        "\n",
        "# baseline model\n",
        "baseline_score = evaluate_model(model, X_train, y_train)\n",
        "print(\"Baseline R2 Score:\", baseline_score)\n",
        "# outliers removed\n",
        "lof_score = evaluate_model(model, X_train_no_outliers, y_train_no_outliers)\n",
        "print(\"LOF R2 Score:\", lof_score)\n",
        "# feature engineering\n",
        "eng_score = evaluate_model(model, X_train_eng, y_train)\n",
        "print(\"Feature Engineering R2 Score:\", eng_score)\n",
        "# both outliers removed and feature engineering\n",
        "both_score = evaluate_model(model, X_train_both, y_train_no_outliers)\n",
        "print(\"Both R2 Score:\", both_score)"
      ],
      "metadata": {
        "colab": {
          "base_uri": "https://localhost:8080/"
        },
        "id": "0IA8X-GMyot2",
        "outputId": "4f9c913f-bfdb-4726-de1a-4f6ca8bcc590"
      },
      "execution_count": 48,
      "outputs": [
        {
          "output_type": "stream",
          "name": "stdout",
          "text": [
            "Baseline R2 Score: 0.9749017343702869\n",
            "LOF R2 Score: 0.9687481258126146\n",
            "Feature Engineering R2 Score: 0.9750365624108964\n",
            "Both R2 Score: 0.9687794001612694\n"
          ]
        },
        {
          "output_type": "stream",
          "name": "stderr",
          "text": [
            "<ipython-input-48-2185e14e97ac>:22: UserWarning: Boolean Series key will be reindexed to match DataFrame index.\n",
            "  train_no_outliers = train[~outliers]\n"
          ]
        }
      ]
    },
    {
      "cell_type": "code",
      "source": [
        "# final test for best performing configuration\n",
        "best_model = model.fit(X_train_eng, y_train)\n",
        "test_score = best_model.score(X_test_eng, y_test)\n",
        "print(\"Test R2 Score:\", test_score)"
      ],
      "metadata": {
        "colab": {
          "base_uri": "https://localhost:8080/"
        },
        "id": "EWDhnO6AY1yj",
        "outputId": "501bc635-c911-452f-9f9a-c9c9bf0c4efe"
      },
      "execution_count": 49,
      "outputs": [
        {
          "output_type": "stream",
          "name": "stdout",
          "text": [
            "Test R2 Score: 0.9707683215424074\n"
          ]
        }
      ]
    },
    {
      "cell_type": "markdown",
      "source": [
        "### **g) Result analysis**"
      ],
      "metadata": {
        "id": "GW71it5-AFTu"
      }
    },
    {
      "cell_type": "markdown",
      "source": [
        "Observing the results we see the baseline model showing similar performance to the performance seen in step d). When looking at the results of training the model whitout accounting the outliers, we see a slight dip in performance compared to the base model. This may be due to training the model on a an ideal set of data leading to poor results on \"unideal\" datapoints bringing down the score. Looking at the feature engineering results, we see a slight improvement in predictions performance while combining feature engineering with LOF sees similar performance decrease. The added context of additional engineered features seems to improve the performance and the model and produce the best results."
      ],
      "metadata": {
        "id": "qsNT36-sypj5"
      }
    },
    {
      "cell_type": "markdown",
      "source": [
        "##**Conclusion**"
      ],
      "metadata": {
        "id": "-iD8qsSQBOKj"
      }
    },
    {
      "cell_type": "markdown",
      "source": [
        "In conclusion, this assignment overviewed the steps necessary to conduct a predictive analysis. Each step from data cleaning, encoding, EDA and outliers management and feature engineering is crucial for achieving good results such as the 97% accuracy achieved in this experiement."
      ],
      "metadata": {
        "id": "xNXtUIE1BcQI"
      }
    },
    {
      "cell_type": "markdown",
      "source": [
        "## **References**"
      ],
      "metadata": {
        "id": "VKd2DtrOApuQ"
      }
    },
    {
      "cell_type": "markdown",
      "source": [
        "Outside of the references listed below, most code found in this notebook is the result of AI code suggestions provided by default in GoogleColab based on the comments listes and fine tune with method descriptions and documentation of the methods to achieve the desired result.\n",
        "\n",
        "[1] https://pandas.pydata.org/docs/reference/api/pandas.DataFrame.hist.html\n",
        "\n",
        "[2] https://pandas.pydata.org/docs/getting_started/intro_tutorials/03_subset_data.html\n",
        "\n",
        "[3] ChatGPT: Prompt = \"Can you help me implement Local Outlier Factor (LOF) on the attached dataset? \\*The dataset was attached as part of the prompt\\*\n",
        "\n",
        "[4] ChatGPT: Prompt = \"Can you help me implement a baseline linear regression model that predicts the house prices?\""
      ],
      "metadata": {
        "id": "jooMmfVKAtKn"
      }
    }
  ]
}