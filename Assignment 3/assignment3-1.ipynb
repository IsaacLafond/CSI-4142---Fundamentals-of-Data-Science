{
  "nbformat": 4,
  "nbformat_minor": 0,
  "metadata": {
    "colab": {
      "provenance": [],
      "authorship_tag": "ABX9TyMSGfy34Sy45A3AtZPW4evp"
    },
    "kernelspec": {
      "name": "python3",
      "display_name": "Python 3"
    },
    "language_info": {
      "name": "python"
    }
  },
  "cells": [
    {
      "cell_type": "code",
      "source": [
        "!pip install pandas"
      ],
      "metadata": {
        "id": "EYfZ5TlR8861",
        "outputId": "1d44ff8f-81b0-4619-b4c7-6ad8305c20e8",
        "colab": {
          "base_uri": "https://localhost:8080/"
        }
      },
      "execution_count": 1,
      "outputs": [
        {
          "output_type": "stream",
          "name": "stdout",
          "text": [
            "Requirement already satisfied: pandas in /usr/local/lib/python3.11/dist-packages (2.2.2)\n",
            "Requirement already satisfied: numpy>=1.23.2 in /usr/local/lib/python3.11/dist-packages (from pandas) (1.26.4)\n",
            "Requirement already satisfied: python-dateutil>=2.8.2 in /usr/local/lib/python3.11/dist-packages (from pandas) (2.8.2)\n",
            "Requirement already satisfied: pytz>=2020.1 in /usr/local/lib/python3.11/dist-packages (from pandas) (2025.1)\n",
            "Requirement already satisfied: tzdata>=2022.7 in /usr/local/lib/python3.11/dist-packages (from pandas) (2025.1)\n",
            "Requirement already satisfied: six>=1.5 in /usr/local/lib/python3.11/dist-packages (from python-dateutil>=2.8.2->pandas) (1.17.0)\n"
          ]
        }
      ]
    },
    {
      "cell_type": "code",
      "source": [
        "# imports\n",
        "import pandas as pd"
      ],
      "metadata": {
        "id": "e-XCJc8g9CQy"
      },
      "execution_count": 2,
      "outputs": []
    },
    {
      "cell_type": "markdown",
      "source": [
        "# **Assignment 3 - Dataset 1: Regression**"
      ],
      "metadata": {
        "id": "eptzrY_tzDP9"
      }
    },
    {
      "cell_type": "markdown",
      "source": [
        "Group: #45\n",
        "\n",
        "Isaac Lafond - 300191954"
      ],
      "metadata": {
        "id": "eElETcuU8xQ1"
      }
    },
    {
      "cell_type": "markdown",
      "source": [
        "**Introduction:**\n",
        "\n",
        "This notebook ... (what it is and how to use it)"
      ],
      "metadata": {
        "id": "imXm8oEA--PI"
      }
    },
    {
      "cell_type": "markdown",
      "source": [
        "**Dataset Description:**\n",
        "\n",
        "This dataset by Den Kuznetz, contains features which can affect the value of a property for the pupose of predicting property value based on these features. It contains several attributes such as square footage, the number of bedrooms, bathrooms, floors, the year the prpoperty was built, whether the property has a garden or pool, the size of the garage, the location score and the distance from the city center. The size values such as square footage and garage size are measured in square meters and the distance to center is measured in kilometers. The garden and pool indicator is shown as 1 for yes and 0 for no. Finally, the location score is a score from 0 to 10 indicating the quality of the neighbourhood (higher = better)."
      ],
      "metadata": {
        "id": "YHXvr3fV_L42"
      }
    },
    {
      "cell_type": "markdown",
      "source": [
        "## **Regression Empirical Study**"
      ],
      "metadata": {
        "id": "WRn5Xlr-_ZQb"
      }
    },
    {
      "cell_type": "code",
      "execution_count": 100,
      "metadata": {
        "id": "kkpi24Vly9I9"
      },
      "outputs": [],
      "source": [
        "df = pd.read_csv(\"https://raw.githubusercontent.com/IsaacLafond/CSI-4142---Fundamentals-of-Data-Science/main/Assignment%203/datasets/real_estate_dataset.csv\")"
      ]
    },
    {
      "cell_type": "markdown",
      "source": [
        "### **a) Cleaning the data**"
      ],
      "metadata": {
        "id": "4uB9dWbT_kB9"
      }
    },
    {
      "cell_type": "markdown",
      "source": [
        "Here we apply checks for the presence of errors that would require cleaning/imputation.\n",
        "\n",
        "True = all values pass the check\n",
        "\n",
        "False = not all values pass the check"
      ],
      "metadata": {
        "id": "4yosltC4HSLY"
      }
    },
    {
      "cell_type": "code",
      "source": [
        "# 1 - Data type check\n",
        "\n",
        "# iterate over each column in the dataframe df and ensure that each value in the column is of the correct data type\n",
        "for column in df.columns:\n",
        "  column_type = df[column].dtype\n",
        "  print(f\"{column}: {df[column].apply(lambda x: type(x) == column_type).all()}\")"
      ],
      "metadata": {
        "id": "qgSC8NC0kKIZ",
        "outputId": "841fcae7-e4c0-46ce-dc93-bb8562337bf2",
        "colab": {
          "base_uri": "https://localhost:8080/"
        }
      },
      "execution_count": 145,
      "outputs": [
        {
          "output_type": "stream",
          "name": "stdout",
          "text": [
            "ID: True\n",
            "Square_Feet: True\n",
            "Num_Bedrooms: True\n",
            "Num_Bathrooms: True\n",
            "Num_Floors: True\n",
            "Year_Built: True\n",
            "Has_Garden: True\n",
            "Has_Pool: True\n",
            "Garage_Size: True\n",
            "Location_Score: True\n",
            "Distance_to_Center: True\n",
            "Price: True\n"
          ]
        }
      ]
    },
    {
      "cell_type": "code",
      "source": [
        "# 2 - Range check\n",
        "# Create numrange class with min and max and default is infinite range\n",
        "# define contains functions so that \"in\" check return true in between min and max\n",
        "class NumRange:\n",
        "  def __init__(self, min=float('-inf'), max=float('inf')):\n",
        "    self.min = min\n",
        "    self.max = max\n",
        "  def __contains__(self, x):\n",
        "    return self.min <= x <= self.max\n",
        "\n",
        "# parameters = column name: expected range\n",
        "params = {\n",
        "    'ID': NumRange(1, 500),\n",
        "    'Square_Feet': NumRange(),\n",
        "    'Num_Bedrooms': NumRange(),\n",
        "    'Num_Bathrooms': NumRange(),\n",
        "    'Num_Floors': NumRange(),\n",
        "    'Year_Built': NumRange(0, 2025),\n",
        "    'Has_Garden': NumRange(0, 1),\n",
        "    'Has_Pool': NumRange(0, 1),\n",
        "    'Garage_Size': NumRange(),\n",
        "    'Location_Score': NumRange(0, 10),\n",
        "    'Distance_to_Center': NumRange(),\n",
        "    'Price': NumRange()\n",
        "}\n",
        "\n",
        "# iterate over each column and very that each value in the column is withing the given range in params\n",
        "for column in df.columns:\n",
        "  print(f\"{column}: {df[column].apply(lambda x: x in params[column]).all()}\")"
      ],
      "metadata": {
        "id": "NMU7uwUokg5F",
        "outputId": "39b1a2d1-9629-41c5-ff8d-9f20b8757211",
        "colab": {
          "base_uri": "https://localhost:8080/"
        }
      },
      "execution_count": 146,
      "outputs": [
        {
          "output_type": "stream",
          "name": "stdout",
          "text": [
            "ID: True\n",
            "Square_Feet: True\n",
            "Num_Bedrooms: True\n",
            "Num_Bathrooms: True\n",
            "Num_Floors: True\n",
            "Year_Built: True\n",
            "Has_Garden: True\n",
            "Has_Pool: True\n",
            "Garage_Size: True\n",
            "Location_Score: True\n",
            "Distance_to_Center: True\n",
            "Price: True\n"
          ]
        }
      ]
    },
    {
      "cell_type": "code",
      "source": [
        "# 3 - Format check\n",
        "# regex for an integer of any number\n",
        "integer_regex = '^\\d+$'\n",
        "# regex for any floating point number\n",
        "float_regex = '^\\d+\\.\\d+$'\n",
        "# regex for integer that is binary that is can only be 0 or 1\n",
        "binary_regex = '^(0|1)$'\n",
        "# regex for a year list as YYYY that cant be more than 2025\n",
        "year_regex = '^\\d{4}$'\n",
        "\n",
        "# parameters = column name: expected pattern\n",
        "params = {\n",
        "    'ID': integer_regex,\n",
        "    'Square_Feet': float_regex,\n",
        "    'Num_Bedrooms': integer_regex,\n",
        "    'Num_Bathrooms': integer_regex,\n",
        "    'Num_Floors': integer_regex,\n",
        "    'Year_Built': year_regex,\n",
        "    'Has_Garden': binary_regex,\n",
        "    'Has_Pool': binary_regex,\n",
        "    'Garage_Size': integer_regex,\n",
        "    'Location_Score': float_regex,\n",
        "    'Distance_to_Center': float_regex,\n",
        "    'Price': float_regex\n",
        "}\n",
        "\n",
        "# iterate over each column in the dataframe and ensure each value matches the corresponding regex in param\n",
        "for column in df.columns:\n",
        "  # check if each value in the column matches the regex in params\n",
        "  print(f\"{column}: {df[column].astype(str).str.match(params[column]).all()}\")"
      ],
      "metadata": {
        "id": "47urbJnekhIw",
        "outputId": "fd3bf283-51e2-45fd-89d5-bc1cc5647c0e",
        "colab": {
          "base_uri": "https://localhost:8080/"
        }
      },
      "execution_count": 103,
      "outputs": [
        {
          "output_type": "stream",
          "name": "stdout",
          "text": [
            "ID: True\n",
            "Square_Feet: True\n",
            "Num_Bedrooms: True\n",
            "Num_Bathrooms: True\n",
            "Num_Floors: True\n",
            "Year_Built: True\n",
            "Has_Garden: True\n",
            "Has_Pool: True\n",
            "Garage_Size: True\n",
            "Location_Score: True\n",
            "Distance_to_Center: True\n",
            "Price: True\n"
          ]
        }
      ]
    },
    {
      "cell_type": "code",
      "source": [
        "# 4 - Consistency check\n",
        "\n",
        "\"\"\"\n",
        "In this dataset none of the columns are logically linked.\n",
        "Therefore a consistency check is not needed.\n",
        "\"\"\"\n",
        "pass"
      ],
      "metadata": {
        "id": "AH1fYfPXkhb1"
      },
      "execution_count": 105,
      "outputs": []
    },
    {
      "cell_type": "code",
      "source": [
        "# 5 - Uniqueness check\n",
        "# check for uniqueness in values which are identifier\n",
        "# This dataset does not have email of usernames and ID is the only identfier\n",
        "# therefore id should have 500 unique values\n",
        "\n",
        "# define any int class for comparison that is always true\n",
        "class AnyNum:\n",
        "  def __eq__(self, x):\n",
        "    return True\n",
        "any_num = AnyNum()\n",
        "\n",
        "# parameter = column name: number of expected unique values\n",
        "params = {\n",
        "    'ID': 500,\n",
        "    'Square_Feet': any_num,\n",
        "    'Num_Bedrooms': any_num,\n",
        "    'Num_Bathrooms': any_num,\n",
        "    'Num_Floors': any_num,\n",
        "    'Year_Built': any_num,\n",
        "    'Has_Garden': any_num,\n",
        "    'Has_Pool': any_num,\n",
        "    'Garage_Size': any_num,\n",
        "    'Location_Score': any_num,\n",
        "    'Distance_to_Center': any_num,\n",
        "    'Price': any_num\n",
        "}\n",
        "\n",
        "# iterate over each column and print the number of unique values in the column\n",
        "for column in df.columns:\n",
        "  print(f\"{column}: {df[column].nunique() == params[column]}\")"
      ],
      "metadata": {
        "id": "VIggpwcRkhpy",
        "outputId": "a97fa91c-d542-41ec-daa7-75f99f8750b2",
        "colab": {
          "base_uri": "https://localhost:8080/"
        }
      },
      "execution_count": 108,
      "outputs": [
        {
          "output_type": "stream",
          "name": "stdout",
          "text": [
            "ID: True\n",
            "Square_Feet: True\n",
            "Num_Bedrooms: True\n",
            "Num_Bathrooms: True\n",
            "Num_Floors: True\n",
            "Year_Built: True\n",
            "Has_Garden: True\n",
            "Has_Pool: True\n",
            "Garage_Size: True\n",
            "Location_Score: True\n",
            "Distance_to_Center: True\n",
            "Price: True\n"
          ]
        }
      ]
    },
    {
      "cell_type": "code",
      "source": [
        "# 6 - Presence check\n",
        "\n",
        "# iterate over each column and verify that all values arent empty\n",
        "for column in df.columns:\n",
        "  print(f\"{column}: {df[column].notnull().any()}\")"
      ],
      "metadata": {
        "id": "pSnxnK5vkh3w",
        "outputId": "6bc25cd8-f4bd-4c54-964e-b6e3ce6b856c",
        "colab": {
          "base_uri": "https://localhost:8080/"
        }
      },
      "execution_count": 149,
      "outputs": [
        {
          "output_type": "stream",
          "name": "stdout",
          "text": [
            "ID: True\n",
            "Square_Feet: True\n",
            "Num_Bedrooms: True\n",
            "Num_Bathrooms: True\n",
            "Num_Floors: True\n",
            "Year_Built: True\n",
            "Has_Garden: True\n",
            "Has_Pool: True\n",
            "Garage_Size: True\n",
            "Location_Score: True\n",
            "Distance_to_Center: True\n",
            "Price: True\n"
          ]
        }
      ]
    },
    {
      "cell_type": "code",
      "source": [
        "# 7 - Length check\n",
        "# define a length range class to verify if length is in expected range\n",
        "class LengthRange:\n",
        "  def __init__(self, min=0, max=float('inf')):\n",
        "    self.min = min\n",
        "    self.max = max\n",
        "  def __contains__(self, x):\n",
        "    return self.min <= len(x) <= self.max\n",
        "any_length = LengthRange()\n",
        "\n",
        "# parameters = column name: expected value length\n",
        "params = {\n",
        "    'ID': LengthRange(1, 3),\n",
        "    'Square_Feet': any_length,\n",
        "    'Num_Bedrooms': any_length,\n",
        "    'Num_Bathrooms': any_length,\n",
        "    'Num_Floors': any_length,\n",
        "    'Year_Built': LengthRange(4, 4),\n",
        "    'Has_Garden': LengthRange(1, 1),\n",
        "    'Has_Pool': LengthRange(1, 1),\n",
        "    'Garage_Size': any_length,\n",
        "    'Location_Score': any_length,\n",
        "    'Distance_to_Center': any_length,\n",
        "    'Price': any_length\n",
        "}\n",
        "\n",
        "# iterate over each column and very that each value in the column is withing the given length range in params\n",
        "for column in df.columns:\n",
        "  print(f\"{column}: {df[column].astype(str).apply(lambda x: x in params[column]).all()}\")"
      ],
      "metadata": {
        "id": "7AH65tUjkiHL",
        "outputId": "b91e492f-4104-4d50-9b3b-8d8457635d4d",
        "colab": {
          "base_uri": "https://localhost:8080/"
        }
      },
      "execution_count": 173,
      "outputs": [
        {
          "output_type": "stream",
          "name": "stdout",
          "text": [
            "ID: True\n",
            "Square_Feet: True\n",
            "Num_Bedrooms: True\n",
            "Num_Bathrooms: True\n",
            "Num_Floors: True\n",
            "Year_Built: True\n",
            "Has_Garden: True\n",
            "Has_Pool: True\n",
            "Garage_Size: True\n",
            "Location_Score: True\n",
            "Distance_to_Center: True\n",
            "Price: True\n"
          ]
        }
      ]
    },
    {
      "cell_type": "code",
      "source": [
        "# 8 - Look-up check\n",
        "# this check verifies that all the values are in the allowed set of values for that column\n",
        "# for this test the only columns with a defined list of acceptable values is Has_Garden and Has_Pool (and IDs from 1-500)\n",
        "# define any list that always contains the value you verify\n",
        "class AnyList:\n",
        "  def __contains__(self, x):\n",
        "    return True\n",
        "any_list = AnyList()\n",
        "\n",
        "# parameters = column name: list of accepted values\n",
        "params = {\n",
        "    'ID': range(1, 501),\n",
        "    'Square_Feet': any_list,\n",
        "    'Num_Bedrooms': any_list,\n",
        "    'Num_Bathrooms': any_list,\n",
        "    'Num_Floors': any_list,\n",
        "    'Year_Built': any_list,\n",
        "    'Has_Garden': [0, 1],\n",
        "    'Has_Pool': [0, 1],\n",
        "    'Garage_Size': any_list,\n",
        "    'Location_Score': any_list,\n",
        "    'Distance_to_Center': any_list,\n",
        "    'Price': any_list\n",
        "}\n",
        "\n",
        "# iterate over each column and verify each of its values are in the list of acceptable values\n",
        "for column in df.columns:\n",
        "  print(f\"{column}: {df[column].apply(lambda x: x in params[column]).all()}\")"
      ],
      "metadata": {
        "id": "83x271Uski1J",
        "outputId": "8cc34bb3-34c8-46b4-f304-98ded6c44821",
        "colab": {
          "base_uri": "https://localhost:8080/"
        }
      },
      "execution_count": 175,
      "outputs": [
        {
          "output_type": "stream",
          "name": "stdout",
          "text": [
            "ID: True\n",
            "Square_Feet: True\n",
            "Num_Bedrooms: True\n",
            "Num_Bathrooms: True\n",
            "Num_Floors: True\n",
            "Year_Built: True\n",
            "Has_Garden: True\n",
            "Has_Pool: True\n",
            "Garage_Size: True\n",
            "Location_Score: True\n",
            "Distance_to_Center: True\n",
            "Price: True\n"
          ]
        }
      ]
    },
    {
      "cell_type": "code",
      "source": [
        "# 9 - Exact duplicate check"
      ],
      "metadata": {
        "id": "WmTeyKHRkjE6"
      },
      "execution_count": null,
      "outputs": []
    },
    {
      "cell_type": "code",
      "source": [
        "# 10 - Near duplicate check"
      ],
      "metadata": {
        "id": "zU9qFOWVkjSZ"
      },
      "execution_count": null,
      "outputs": []
    },
    {
      "cell_type": "markdown",
      "source": [
        "### **b) Categorical feature encoding**"
      ],
      "metadata": {
        "id": "q_u4JKGC_qVb"
      }
    },
    {
      "cell_type": "markdown",
      "source": [
        "### **c) EDA and Outlier detection**"
      ],
      "metadata": {
        "id": "kPbVnnMAACf_"
      }
    },
    {
      "cell_type": "markdown",
      "source": [
        "### **d) Predictive analysis: Linear Regression**"
      ],
      "metadata": {
        "id": "wwJYQFuaADqS"
      }
    },
    {
      "cell_type": "markdown",
      "source": [
        "### **e) Feature Engineering**"
      ],
      "metadata": {
        "id": "JnCZB1DKAX7r"
      }
    },
    {
      "cell_type": "markdown",
      "source": [
        "### **f) Empirical study**"
      ],
      "metadata": {
        "id": "ZdLuVH2uAESO"
      }
    },
    {
      "cell_type": "markdown",
      "source": [
        "### **g) Result analysis**"
      ],
      "metadata": {
        "id": "GW71it5-AFTu"
      }
    },
    {
      "cell_type": "markdown",
      "source": [
        "##**Conclusion**"
      ],
      "metadata": {
        "id": "-iD8qsSQBOKj"
      }
    },
    {
      "cell_type": "markdown",
      "source": [
        "In conclusion, ..."
      ],
      "metadata": {
        "id": "xNXtUIE1BcQI"
      }
    },
    {
      "cell_type": "markdown",
      "source": [
        "## **References**"
      ],
      "metadata": {
        "id": "VKd2DtrOApuQ"
      }
    },
    {
      "cell_type": "markdown",
      "source": [
        "[1] ..."
      ],
      "metadata": {
        "id": "jooMmfVKAtKn"
      }
    }
  ]
}