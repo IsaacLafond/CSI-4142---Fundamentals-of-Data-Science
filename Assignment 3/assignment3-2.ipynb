{
  "nbformat": 4,
  "nbformat_minor": 0,
  "metadata": {
    "colab": {
      "provenance": [],
      "authorship_tag": "ABX9TyPqHuDOjEbw2wQiFyCWORB8"
    },
    "kernelspec": {
      "name": "python3",
      "display_name": "Python 3"
    },
    "language_info": {
      "name": "python"
    }
  },
  "cells": [
    {
      "cell_type": "code",
      "source": [
        "!pip install pandas matplotlib seaborn scikit-learn"
      ],
      "metadata": {
        "id": "EYfZ5TlR8861",
        "outputId": "258a5f47-1a48-4539-f44f-d3c0420c1cc8",
        "colab": {
          "base_uri": "https://localhost:8080/"
        }
      },
      "execution_count": 28,
      "outputs": [
        {
          "output_type": "stream",
          "name": "stdout",
          "text": [
            "Requirement already satisfied: pandas in /usr/local/lib/python3.11/dist-packages (2.2.2)\n",
            "Requirement already satisfied: matplotlib in /usr/local/lib/python3.11/dist-packages (3.10.0)\n",
            "Requirement already satisfied: seaborn in /usr/local/lib/python3.11/dist-packages (0.13.2)\n",
            "Requirement already satisfied: scikit-learn in /usr/local/lib/python3.11/dist-packages (1.6.1)\n",
            "Requirement already satisfied: numpy>=1.23.2 in /usr/local/lib/python3.11/dist-packages (from pandas) (1.26.4)\n",
            "Requirement already satisfied: python-dateutil>=2.8.2 in /usr/local/lib/python3.11/dist-packages (from pandas) (2.8.2)\n",
            "Requirement already satisfied: pytz>=2020.1 in /usr/local/lib/python3.11/dist-packages (from pandas) (2025.1)\n",
            "Requirement already satisfied: tzdata>=2022.7 in /usr/local/lib/python3.11/dist-packages (from pandas) (2025.1)\n",
            "Requirement already satisfied: contourpy>=1.0.1 in /usr/local/lib/python3.11/dist-packages (from matplotlib) (1.3.1)\n",
            "Requirement already satisfied: cycler>=0.10 in /usr/local/lib/python3.11/dist-packages (from matplotlib) (0.12.1)\n",
            "Requirement already satisfied: fonttools>=4.22.0 in /usr/local/lib/python3.11/dist-packages (from matplotlib) (4.56.0)\n",
            "Requirement already satisfied: kiwisolver>=1.3.1 in /usr/local/lib/python3.11/dist-packages (from matplotlib) (1.4.8)\n",
            "Requirement already satisfied: packaging>=20.0 in /usr/local/lib/python3.11/dist-packages (from matplotlib) (24.2)\n",
            "Requirement already satisfied: pillow>=8 in /usr/local/lib/python3.11/dist-packages (from matplotlib) (11.1.0)\n",
            "Requirement already satisfied: pyparsing>=2.3.1 in /usr/local/lib/python3.11/dist-packages (from matplotlib) (3.2.1)\n",
            "Requirement already satisfied: scipy>=1.6.0 in /usr/local/lib/python3.11/dist-packages (from scikit-learn) (1.14.1)\n",
            "Requirement already satisfied: joblib>=1.2.0 in /usr/local/lib/python3.11/dist-packages (from scikit-learn) (1.4.2)\n",
            "Requirement already satisfied: threadpoolctl>=3.1.0 in /usr/local/lib/python3.11/dist-packages (from scikit-learn) (3.5.0)\n",
            "Requirement already satisfied: six>=1.5 in /usr/local/lib/python3.11/dist-packages (from python-dateutil>=2.8.2->pandas) (1.17.0)\n"
          ]
        }
      ]
    },
    {
      "cell_type": "code",
      "source": [
        "# imports\n",
        "import pandas as pd\n",
        "import matplotlib.pyplot as plt\n",
        "import seaborn as sns\n",
        "from sklearn.neighbors import LocalOutlierFactor\n",
        "from sklearn.tree import DecisionTreeClassifier\n",
        "from sklearn.model_selection import cross_val_score, train_test_split\n",
        "from sklearn.metrics import precision_score, recall_score, f1_score, accuracy_score, classification_report"
      ],
      "metadata": {
        "id": "e-XCJc8g9CQy"
      },
      "execution_count": 67,
      "outputs": []
    },
    {
      "cell_type": "markdown",
      "source": [
        "# **Assignment 3 - Dataset 2: Classification**"
      ],
      "metadata": {
        "id": "eptzrY_tzDP9"
      }
    },
    {
      "cell_type": "markdown",
      "source": [
        "Group: #45\n",
        "\n",
        "Isaac Lafond - 300191954"
      ],
      "metadata": {
        "id": "rJQEgf6StYtC"
      }
    },
    {
      "cell_type": "markdown",
      "source": [
        "**Introduction:**\n",
        "\n",
        "This notebook overview steps for a predictive analysis of classifying internet traffic as DDOS attacks based on the dataset detailed below. The steps required in achieving the predictive analysis are broken down in sections with text and code block describing the step in question. Executing this notebook will show the results of the code blocks which implement the steps of the predictive analysis."
      ],
      "metadata": {
        "id": "nMSfW33BtZX8"
      }
    },
    {
      "cell_type": "markdown",
      "source": [
        "**Dataset Description:**\n",
        "\n",
        "This dataset by Oktay Ordekci, contains features to help predict if internet traffic is DDOS traffic. It contains several attributes such as highest layer of communication, transport layer type, source IP, destination IP, source port and destination port, packet length, packet/time and target which indicates whether or not the row represent DDOS traffic or not."
      ],
      "metadata": {
        "id": "NtTKR-ystmBO"
      }
    },
    {
      "cell_type": "markdown",
      "source": [
        "## **Classification Empirical Study**"
      ],
      "metadata": {
        "id": "xNaYPbFuuWtt"
      }
    },
    {
      "cell_type": "code",
      "source": [
        "df = pd.read_csv(\"https://raw.githubusercontent.com/IsaacLafond/CSI-4142---Fundamentals-of-Data-Science/main/Assignment%203/datasets/DDoS_dataset.csv\")"
      ],
      "metadata": {
        "id": "k6Zbau2LvHUI"
      },
      "execution_count": 5,
      "outputs": []
    },
    {
      "cell_type": "markdown",
      "source": [
        "### **a) Cleaning the data**"
      ],
      "metadata": {
        "id": "4uB9dWbT_kB9"
      }
    },
    {
      "cell_type": "markdown",
      "source": [
        "Here we apply checks for the presence of errors that would require cleaning/imputation.\n",
        "\n",
        "True = all values pass the check\n",
        "\n",
        "False = not all values pass the check\n",
        "\n",
        "\\* unless indicated diffrently in the results output"
      ],
      "metadata": {
        "id": "4yosltC4HSLY"
      }
    },
    {
      "cell_type": "code",
      "source": [
        "# 1 - Data type check\n",
        "\n",
        "# iterate over each column in the dataframe df and ensure that each value in the column is of the correct data type\n",
        "for column in df.columns:\n",
        "  column_type = df[column].dtype\n",
        "  print(f\"{column}: {df[column].apply(lambda x: type(x) == column_type).all()} ({column_type})\")"
      ],
      "metadata": {
        "id": "qgSC8NC0kKIZ",
        "outputId": "9006acad-1515-4a75-fff8-9af8cf87d70a",
        "colab": {
          "base_uri": "https://localhost:8080/"
        }
      },
      "execution_count": 6,
      "outputs": [
        {
          "output_type": "stream",
          "name": "stdout",
          "text": [
            "Highest Layer: False (object)\n",
            "Transport Layer: False (object)\n",
            "Source IP: True (int64)\n",
            "Dest IP: False (object)\n",
            "Source Port: True (int64)\n",
            "Dest Port: True (int64)\n",
            "Packet Length: True (int64)\n",
            "Packets/Time: True (float64)\n",
            "target: True (int64)\n"
          ]
        }
      ]
    },
    {
      "cell_type": "markdown",
      "source": [
        "We see that each column with the object type fails our check. In fact these columns are string format and are better subject to further checks to better define necessary cleaning etc. (see format check, length check)"
      ],
      "metadata": {
        "id": "cIp5NkFUGz9F"
      }
    },
    {
      "cell_type": "code",
      "source": [
        "# 2 - Range check\n",
        "\n",
        "# range columns\n",
        "range_columns = ['Source IP', 'Dest IP', 'Source Port', 'Dest Port', 'target']\n",
        "\n",
        "# parameters = column name: expected range (IP range 255, port 65535)\n",
        "params = {\n",
        "    'Source IP': range(0, 256),\n",
        "    'Dest IP': range(0, 256),\n",
        "    'Source Port': range(0, 65536),\n",
        "    'Dest Port': range(0, 65536),\n",
        "    'target': range(0, 2)\n",
        "}\n",
        "\n",
        "# iterate over each column and very that each value in the column is withing the given range in params\n",
        "for column in range_columns:\n",
        "  if df[column].dtype == 'object':\n",
        "    # split the string by \".\" convert each item to int and check if in params range make an error false\n",
        "    try:\n",
        "      print(f\"{column}: {df[column].apply(lambda x: all(int(item) in params[column] for item in x.split('.'))).all()}\")\n",
        "    except:\n",
        "      print(f\"{column}: False\")\n",
        "  else:\n",
        "    print(f\"{column}: {df[column].apply(lambda x: x in params[column]).all()}\")"
      ],
      "metadata": {
        "id": "NMU7uwUokg5F",
        "outputId": "33f95b96-39eb-4d6c-eb0d-3f7d2b77384f",
        "colab": {
          "base_uri": "https://localhost:8080/"
        }
      },
      "execution_count": 7,
      "outputs": [
        {
          "output_type": "stream",
          "name": "stdout",
          "text": [
            "Source IP: True\n",
            "Dest IP: False\n",
            "Source Port: True\n",
            "Dest Port: True\n",
            "target: True\n"
          ]
        }
      ]
    },
    {
      "cell_type": "markdown",
      "source": [
        "Dest IP again failed the range check where we assume that the address is an IPv4 address of ints between 0-255 split by \".\". See the following format check to see why this is not the case."
      ],
      "metadata": {
        "id": "Wu5nHo3HHbsV"
      }
    },
    {
      "cell_type": "code",
      "source": [
        "# 3 - Format check\n",
        "# allow any regex\n",
        "any_regex = '.*'\n",
        "\n",
        "# IPv4 regex\n",
        "ipv4_regex = r'^\\d{1,3}\\.\\d{1,3}\\.\\d{1,3}\\.\\d{1,3}$'\n",
        "\n",
        "# regex for integer\n",
        "integer_regex = '^\\d+$'\n",
        "# regex for any floating point number\n",
        "float_regex = '^\\d+\\.\\d+$'\n",
        "# regex for integer that is binary that is can only be 0 or 1\n",
        "binary_regex = '^(0|1)$'\n",
        "\n",
        "# parameters = column name: expected pattern\n",
        "params = {\n",
        "    'Highest Layer': any_regex,\n",
        "    'Transport Layer': any_regex,\n",
        "    'Source IP': binary_regex,\n",
        "    'Dest IP': ipv4_regex,\n",
        "    'Source Port': integer_regex,\n",
        "    'Dest Port': integer_regex,\n",
        "    'Packet Length': integer_regex,\n",
        "    'Packets/Time': float_regex,\n",
        "    'target': binary_regex\n",
        "}\n",
        "\n",
        "# iterate over each column in the dataframe and ensure each value matches the corresponding regex in param\n",
        "for column in df.columns:\n",
        "  # check if each value in the column matches the regex in params\n",
        "  print(f\"{column}: {df[column].astype(str).str.match(params[column]).all()}\")\n",
        "\n",
        "# Dest IP fails see values that fails\n",
        "df[~df['Dest IP'].astype(str).str.match(params['Dest IP'])]['Dest IP'].value_counts()"
      ],
      "metadata": {
        "id": "47urbJnekhIw",
        "outputId": "0350be6d-b89b-47ca-ef02-212c7bbd3242",
        "colab": {
          "base_uri": "https://localhost:8080/",
          "height": 334
        }
      },
      "execution_count": 8,
      "outputs": [
        {
          "output_type": "stream",
          "name": "stdout",
          "text": [
            "Highest Layer: True\n",
            "Transport Layer: True\n",
            "Source IP: True\n",
            "Dest IP: False\n",
            "Source Port: True\n",
            "Dest Port: True\n",
            "Packet Length: True\n",
            "Packets/Time: True\n",
            "target: True\n"
          ]
        },
        {
          "output_type": "execute_result",
          "data": {
            "text/plain": [
              "Dest IP\n",
              "ff02::1:2    5193\n",
              "ff02::1:3      72\n",
              "Name: count, dtype: int64"
            ],
            "text/html": [
              "<div>\n",
              "<style scoped>\n",
              "    .dataframe tbody tr th:only-of-type {\n",
              "        vertical-align: middle;\n",
              "    }\n",
              "\n",
              "    .dataframe tbody tr th {\n",
              "        vertical-align: top;\n",
              "    }\n",
              "\n",
              "    .dataframe thead th {\n",
              "        text-align: right;\n",
              "    }\n",
              "</style>\n",
              "<table border=\"1\" class=\"dataframe\">\n",
              "  <thead>\n",
              "    <tr style=\"text-align: right;\">\n",
              "      <th></th>\n",
              "      <th>count</th>\n",
              "    </tr>\n",
              "    <tr>\n",
              "      <th>Dest IP</th>\n",
              "      <th></th>\n",
              "    </tr>\n",
              "  </thead>\n",
              "  <tbody>\n",
              "    <tr>\n",
              "      <th>ff02::1:2</th>\n",
              "      <td>5193</td>\n",
              "    </tr>\n",
              "    <tr>\n",
              "      <th>ff02::1:3</th>\n",
              "      <td>72</td>\n",
              "    </tr>\n",
              "  </tbody>\n",
              "</table>\n",
              "</div><br><label><b>dtype:</b> int64</label>"
            ]
          },
          "metadata": {},
          "execution_count": 8
        }
      ]
    },
    {
      "cell_type": "markdown",
      "source": [
        "Again we notice that Dest IP failed the format check. It appears the column not only contains IPv4 addresses but also condensed IPv6 addresses. In this case is seems that theses are only a handful of addresses and may not require cleaning."
      ],
      "metadata": {
        "id": "7KNC5p6zHuG7"
      }
    },
    {
      "cell_type": "code",
      "source": [
        "# 4 - Consistency check\n",
        "\n",
        "\"\"\"\n",
        "In this dataset, based on the description, none of the columns are logically linked.\n",
        "Therefore a consistency check is not needed.\n",
        "\"\"\"\n",
        "pass"
      ],
      "metadata": {
        "id": "AH1fYfPXkhb1"
      },
      "execution_count": 9,
      "outputs": []
    },
    {
      "cell_type": "code",
      "source": [
        "# 5 - Uniqueness check\n",
        "\n",
        "\"\"\"\n",
        "This dataset doesn't contain any unique identifiers.\n",
        "Although IP addresses are unique identifier, repitition is bound to be the case\n",
        "as request may require multiple packets with the same IP address.\n",
        "Therefore a uniqueness check is useful.\n",
        "We observe the different IP address value counts below as an\n",
        "overview of these values and a testament to this repetition.\n",
        "\"\"\"\n",
        "# pass\n",
        "df['Dest IP'].value_counts()"
      ],
      "metadata": {
        "id": "VIggpwcRkhpy",
        "outputId": "76873cc7-7a68-4fed-c0ed-13539df262e6",
        "colab": {
          "base_uri": "https://localhost:8080/",
          "height": 649
        }
      },
      "execution_count": 10,
      "outputs": [
        {
          "output_type": "execute_result",
          "data": {
            "text/plain": [
              "Dest IP\n",
              "192.168.1.1        798758\n",
              "192.168.1.3         26568\n",
              "255.255.255.255      8366\n",
              "172.16.7.100         5574\n",
              "ff02::1:2            5193\n",
              "192.168.1.255        1564\n",
              "169.254.255.255      1563\n",
              "172.16.255.255       1122\n",
              "192.168.1.11         1034\n",
              "192.168.1.12          982\n",
              "192.168.1.10          882\n",
              "224.0.0.252           500\n",
              "239.255.255.250       332\n",
              "ff02::1:3              72\n",
              "192.168.1.2            69\n",
              "169.254.218.126         4\n",
              "169.254.198.77          2\n",
              "Name: count, dtype: int64"
            ],
            "text/html": [
              "<div>\n",
              "<style scoped>\n",
              "    .dataframe tbody tr th:only-of-type {\n",
              "        vertical-align: middle;\n",
              "    }\n",
              "\n",
              "    .dataframe tbody tr th {\n",
              "        vertical-align: top;\n",
              "    }\n",
              "\n",
              "    .dataframe thead th {\n",
              "        text-align: right;\n",
              "    }\n",
              "</style>\n",
              "<table border=\"1\" class=\"dataframe\">\n",
              "  <thead>\n",
              "    <tr style=\"text-align: right;\">\n",
              "      <th></th>\n",
              "      <th>count</th>\n",
              "    </tr>\n",
              "    <tr>\n",
              "      <th>Dest IP</th>\n",
              "      <th></th>\n",
              "    </tr>\n",
              "  </thead>\n",
              "  <tbody>\n",
              "    <tr>\n",
              "      <th>192.168.1.1</th>\n",
              "      <td>798758</td>\n",
              "    </tr>\n",
              "    <tr>\n",
              "      <th>192.168.1.3</th>\n",
              "      <td>26568</td>\n",
              "    </tr>\n",
              "    <tr>\n",
              "      <th>255.255.255.255</th>\n",
              "      <td>8366</td>\n",
              "    </tr>\n",
              "    <tr>\n",
              "      <th>172.16.7.100</th>\n",
              "      <td>5574</td>\n",
              "    </tr>\n",
              "    <tr>\n",
              "      <th>ff02::1:2</th>\n",
              "      <td>5193</td>\n",
              "    </tr>\n",
              "    <tr>\n",
              "      <th>192.168.1.255</th>\n",
              "      <td>1564</td>\n",
              "    </tr>\n",
              "    <tr>\n",
              "      <th>169.254.255.255</th>\n",
              "      <td>1563</td>\n",
              "    </tr>\n",
              "    <tr>\n",
              "      <th>172.16.255.255</th>\n",
              "      <td>1122</td>\n",
              "    </tr>\n",
              "    <tr>\n",
              "      <th>192.168.1.11</th>\n",
              "      <td>1034</td>\n",
              "    </tr>\n",
              "    <tr>\n",
              "      <th>192.168.1.12</th>\n",
              "      <td>982</td>\n",
              "    </tr>\n",
              "    <tr>\n",
              "      <th>192.168.1.10</th>\n",
              "      <td>882</td>\n",
              "    </tr>\n",
              "    <tr>\n",
              "      <th>224.0.0.252</th>\n",
              "      <td>500</td>\n",
              "    </tr>\n",
              "    <tr>\n",
              "      <th>239.255.255.250</th>\n",
              "      <td>332</td>\n",
              "    </tr>\n",
              "    <tr>\n",
              "      <th>ff02::1:3</th>\n",
              "      <td>72</td>\n",
              "    </tr>\n",
              "    <tr>\n",
              "      <th>192.168.1.2</th>\n",
              "      <td>69</td>\n",
              "    </tr>\n",
              "    <tr>\n",
              "      <th>169.254.218.126</th>\n",
              "      <td>4</td>\n",
              "    </tr>\n",
              "    <tr>\n",
              "      <th>169.254.198.77</th>\n",
              "      <td>2</td>\n",
              "    </tr>\n",
              "  </tbody>\n",
              "</table>\n",
              "</div><br><label><b>dtype:</b> int64</label>"
            ]
          },
          "metadata": {},
          "execution_count": 10
        }
      ]
    },
    {
      "cell_type": "code",
      "source": [
        "# 6 - Presence check\n",
        "\n",
        "# iterate over each column and verify that all values arent empty\n",
        "for column in df.columns:\n",
        "  print(f\"{column}: {df[column].notnull().any()}\")"
      ],
      "metadata": {
        "id": "pSnxnK5vkh3w",
        "outputId": "f9176727-9a03-4b84-d9f4-5bcc73537e61",
        "colab": {
          "base_uri": "https://localhost:8080/"
        }
      },
      "execution_count": 11,
      "outputs": [
        {
          "output_type": "stream",
          "name": "stdout",
          "text": [
            "Highest Layer: True\n",
            "Transport Layer: True\n",
            "Source IP: True\n",
            "Dest IP: True\n",
            "Source Port: True\n",
            "Dest Port: True\n",
            "Packet Length: True\n",
            "Packets/Time: True\n",
            "target: True\n"
          ]
        }
      ]
    },
    {
      "cell_type": "code",
      "source": [
        "# 7 - Length check\n",
        "# define a length range class to verify if length is in expected range\n",
        "class LengthRange:\n",
        "  def __init__(self, min=0, max=float('inf')):\n",
        "    self.min = min\n",
        "    self.max = max\n",
        "  def __contains__(self, x):\n",
        "    return self.min <= len(x) <= self.max\n",
        "any_length = LengthRange()\n",
        "\n",
        "# parameters = column name: expected value length\n",
        "params = {\n",
        "    'Highest Layer': any_length,\n",
        "    'Transport Layer': any_length,\n",
        "    'Source IP': LengthRange(0, 15), # max length: 255.255.255.255 = 15 (may require future improvement for IPv6 addresses althought not currently necessary)\n",
        "    'Dest IP': LengthRange(0, 15),\n",
        "    'Source Port': LengthRange(0, 65535),\n",
        "    'Dest Port': LengthRange(0, 65535),\n",
        "    'Packet Length': any_length,\n",
        "    'Packets/Time': any_length,\n",
        "    'target': LengthRange(0, 1)\n",
        "}\n",
        "\n",
        "# iterate over each column and very that each value in the column is withing the given length range in params\n",
        "for column in df.columns:\n",
        "  print(f\"{column}: {df[column].astype(str).apply(lambda x: x in params[column]).all()}\")"
      ],
      "metadata": {
        "id": "7AH65tUjkiHL",
        "outputId": "ca3aaf7e-65ba-421e-9135-661f03f80d78",
        "colab": {
          "base_uri": "https://localhost:8080/"
        }
      },
      "execution_count": 12,
      "outputs": [
        {
          "output_type": "stream",
          "name": "stdout",
          "text": [
            "Highest Layer: True\n",
            "Transport Layer: True\n",
            "Source IP: True\n",
            "Dest IP: True\n",
            "Source Port: True\n",
            "Dest Port: True\n",
            "Packet Length: True\n",
            "Packets/Time: True\n",
            "target: True\n"
          ]
        }
      ]
    },
    {
      "cell_type": "code",
      "source": [
        "# 8 - Look-up check\n",
        "# this check verifies that all the values are in the allowed set of values for that column\n",
        "# for this test the only columns with a defined list of acceptable values is Has_Garden and Has_Pool (and IDs from 1-500)\n",
        "# define any list that always contains the value you verify\n",
        "class AnyList:\n",
        "  def __contains__(self, x):\n",
        "    return True\n",
        "any_list = AnyList()\n",
        "\n",
        "# parameters = column name: list of accepted values\n",
        "params = {\n",
        "    'Highest Layer': ['ARP', 'BOOTP', 'BROWSER', 'DATA', 'DHCPV6', 'LLMNR', 'NBNS', 'QUIC', 'SSDP', 'TCP'],\n",
        "    'Transport Layer': ['TCP', 'UDP'],\n",
        "    'Source IP': any_list,\n",
        "    'Dest IP': any_list,\n",
        "    'Source Port': range(0, 65536),\n",
        "    'Dest Port': range(0, 65536),\n",
        "    'Packet Length': any_list,\n",
        "    'Packets/Time': any_list,\n",
        "    'target': [0, 1]\n",
        "}\n",
        "\n",
        "# iterate over each column and verify each of its values are in the list of acceptable values\n",
        "for column in df.columns:\n",
        "  print(f\"{column}: {df[column].apply(lambda x: x in params[column]).all()}\")"
      ],
      "metadata": {
        "id": "83x271Uski1J",
        "outputId": "f19e40b6-73bf-47b2-c270-f84a7f2c1b2f",
        "colab": {
          "base_uri": "https://localhost:8080/"
        }
      },
      "execution_count": 13,
      "outputs": [
        {
          "output_type": "stream",
          "name": "stdout",
          "text": [
            "Highest Layer: True\n",
            "Transport Layer: True\n",
            "Source IP: True\n",
            "Dest IP: True\n",
            "Source Port: True\n",
            "Dest Port: True\n",
            "Packet Length: True\n",
            "Packets/Time: True\n",
            "target: True\n"
          ]
        }
      ]
    },
    {
      "cell_type": "code",
      "source": [
        "# 9 - Exact duplicate check\n",
        "\n",
        "# check for any exact duplicates in the dataset\n",
        "print(f\"Presence of exact duplicates: {df.duplicated().any()}\")\n",
        "\n",
        "# get length of the duplicates\n",
        "print(f\"Number of exact duplicates: {len(df[df.duplicated()])}\")\n",
        "\n",
        "# duplicate pourcentage\n",
        "formatted_percentage = \"{:.2f}\".format(len(df[df.duplicated()]) / len(df) * 100)\n",
        "print(f\"Duplicate percentage: {formatted_percentage}%\")\n",
        "\n",
        "df_cleaned = df.drop_duplicates()\n",
        "len(df_cleaned)"
      ],
      "metadata": {
        "id": "fXEqHN72S857",
        "outputId": "e3ca3ace-4ffd-4e00-dbba-153d1b6adfc8",
        "colab": {
          "base_uri": "https://localhost:8080/"
        }
      },
      "execution_count": 14,
      "outputs": [
        {
          "output_type": "stream",
          "name": "stdout",
          "text": [
            "Presence of exact duplicates: True\n",
            "Number of exact duplicates: 766840\n",
            "Duplicate percentage: 89.94%\n"
          ]
        },
        {
          "output_type": "execute_result",
          "data": {
            "text/plain": [
              "85745"
            ]
          },
          "metadata": {},
          "execution_count": 14
        }
      ]
    },
    {
      "cell_type": "code",
      "source": [
        "# 10 - Near duplicate check\n",
        "\n",
        "\"\"\"\n",
        "Based on the fact that ~89% of the data points are near duplicates,\n",
        "we can assume that all if not most of the data points are near duplicates.\n",
        "\"\"\"\n",
        "pass"
      ],
      "metadata": {
        "id": "zU9qFOWVkjSZ"
      },
      "execution_count": 1,
      "outputs": []
    },
    {
      "cell_type": "markdown",
      "source": [
        "### **b) Categorical feature encoding**"
      ],
      "metadata": {
        "id": "q_u4JKGC_qVb"
      }
    },
    {
      "cell_type": "code",
      "source": [
        "# One hot encode all categorical data\n",
        "df_encoded = pd.get_dummies(df, drop_first=True) # [1]\n",
        "df_encoded.info()"
      ],
      "metadata": {
        "id": "snk0w7cHiV84",
        "outputId": "bf3d6e78-4649-4f1b-9454-8e48ed1c99d0",
        "colab": {
          "base_uri": "https://localhost:8080/"
        }
      },
      "execution_count": 51,
      "outputs": [
        {
          "output_type": "stream",
          "name": "stdout",
          "text": [
            "<class 'pandas.core.frame.DataFrame'>\n",
            "RangeIndex: 852585 entries, 0 to 852584\n",
            "Data columns (total 32 columns):\n",
            " #   Column                   Non-Null Count   Dtype  \n",
            "---  ------                   --------------   -----  \n",
            " 0   Source IP                852585 non-null  int64  \n",
            " 1   Source Port              852585 non-null  int64  \n",
            " 2   Dest Port                852585 non-null  int64  \n",
            " 3   Packet Length            852585 non-null  int64  \n",
            " 4   Packets/Time             852585 non-null  float64\n",
            " 5   target                   852585 non-null  int64  \n",
            " 6   Highest Layer_BOOTP      852585 non-null  bool   \n",
            " 7   Highest Layer_BROWSER    852585 non-null  bool   \n",
            " 8   Highest Layer_DATA       852585 non-null  bool   \n",
            " 9   Highest Layer_DHCPV6     852585 non-null  bool   \n",
            " 10  Highest Layer_LLMNR      852585 non-null  bool   \n",
            " 11  Highest Layer_NBNS       852585 non-null  bool   \n",
            " 12  Highest Layer_QUIC       852585 non-null  bool   \n",
            " 13  Highest Layer_SSDP       852585 non-null  bool   \n",
            " 14  Highest Layer_TCP        852585 non-null  bool   \n",
            " 15  Transport Layer_UDP      852585 non-null  bool   \n",
            " 16  Dest IP_169.254.218.126  852585 non-null  bool   \n",
            " 17  Dest IP_169.254.255.255  852585 non-null  bool   \n",
            " 18  Dest IP_172.16.255.255   852585 non-null  bool   \n",
            " 19  Dest IP_172.16.7.100     852585 non-null  bool   \n",
            " 20  Dest IP_192.168.1.1      852585 non-null  bool   \n",
            " 21  Dest IP_192.168.1.10     852585 non-null  bool   \n",
            " 22  Dest IP_192.168.1.11     852585 non-null  bool   \n",
            " 23  Dest IP_192.168.1.12     852585 non-null  bool   \n",
            " 24  Dest IP_192.168.1.2      852585 non-null  bool   \n",
            " 25  Dest IP_192.168.1.255    852585 non-null  bool   \n",
            " 26  Dest IP_192.168.1.3      852585 non-null  bool   \n",
            " 27  Dest IP_224.0.0.252      852585 non-null  bool   \n",
            " 28  Dest IP_239.255.255.250  852585 non-null  bool   \n",
            " 29  Dest IP_255.255.255.255  852585 non-null  bool   \n",
            " 30  Dest IP_ff02::1:2        852585 non-null  bool   \n",
            " 31  Dest IP_ff02::1:3        852585 non-null  bool   \n",
            "dtypes: bool(26), float64(1), int64(5)\n",
            "memory usage: 60.2 MB\n"
          ]
        }
      ]
    },
    {
      "cell_type": "markdown",
      "source": [
        "### **c) EDA and Outlier detection**"
      ],
      "metadata": {
        "id": "kPbVnnMAACf_"
      }
    },
    {
      "cell_type": "code",
      "source": [
        "# Create histogram plots for each dataset feature\n",
        "df.hist(bins=30, figsize=(10, 10))\n",
        "plt.show()\n",
        "# highest layer countplot\n",
        "sns.countplot(x='Highest Layer', data=df)\n",
        "plt.show()\n",
        "# transport layer countplot\n",
        "sns.countplot(x='Transport Layer', data=df)\n",
        "plt.show()\n",
        "# destination ip countplot\n",
        "sns.countplot(x='Dest IP', data=df)\n",
        "plt.show()"
      ],
      "metadata": {
        "colab": {
          "base_uri": "https://localhost:8080/",
          "height": 1000
        },
        "id": "vnHGmBL3kW3K",
        "outputId": "27b4c3ff-c4b2-4452-b59f-14d2d04dc472"
      },
      "execution_count": 31,
      "outputs": [
        {
          "output_type": "display_data",
          "data": {
            "text/plain": [
              "<Figure size 1000x1000 with 6 Axes>"
            ],
            "image/png": "[encoded data removed]"
          },
          "metadata": {}
        },
        {
          "output_type": "display_data",
          "data": {
            "text/plain": [
              "<Figure size 640x480 with 1 Axes>"
            ],
            "image/png": "[encoded data removed]"
          },
          "metadata": {}
        },
        {
          "output_type": "display_data",
          "data": {
            "text/plain": [
              "<Figure size 640x480 with 1 Axes>"
            ],
            "image/png": "[encoded data removed]"
          },
          "metadata": {}
        },
        {
          "output_type": "display_data",
          "data": {
            "text/plain": [
              "<Figure size 640x480 with 1 Axes>"
            ],
            "image/png": "[encoded data removed]"
          },
          "metadata": {}
        }
      ]
    },
    {
      "cell_type": "code",
      "source": [
        "# LOC implementation\n",
        "# select the subset of rows to take into account\n",
        "LOC_subset = ['Packets/Time', 'Packet Length']\n",
        "# create a copy of the dataframe containing only the selected columns\n",
        "df_loc = df[LOC_subset].copy()\n",
        "df_loc.drop_duplicates(inplace=True)\n",
        "\n",
        "# fit and predict LOF\n",
        "def LOF(df, n_neighbors=20, contamination=0.05): # 20 neighbours and 5% contamination\n",
        "  lof = LocalOutlierFactor(n_neighbors=n_neighbors, contamination=contamination)\n",
        "  df['LOF_Outliers'] = lof.fit_predict(df)\n",
        "  return df['LOF_Outliers'].map({1: False, -1: True})\n",
        "\n",
        "# Print the outlier counts\n",
        "LOF(df_loc).value_counts()"
      ],
      "metadata": {
        "colab": {
          "base_uri": "https://localhost:8080/",
          "height": 178
        },
        "id": "GFoaR5xWmUbP",
        "outputId": "0c6f802b-a5ad-499b-c68a-7a7712126281"
      },
      "execution_count": 59,
      "outputs": [
        {
          "output_type": "execute_result",
          "data": {
            "text/plain": [
              "LOF_Outliers\n",
              "False    10978\n",
              "True       578\n",
              "Name: count, dtype: int64"
            ],
            "text/html": [
              "<div>\n",
              "<style scoped>\n",
              "    .dataframe tbody tr th:only-of-type {\n",
              "        vertical-align: middle;\n",
              "    }\n",
              "\n",
              "    .dataframe tbody tr th {\n",
              "        vertical-align: top;\n",
              "    }\n",
              "\n",
              "    .dataframe thead th {\n",
              "        text-align: right;\n",
              "    }\n",
              "</style>\n",
              "<table border=\"1\" class=\"dataframe\">\n",
              "  <thead>\n",
              "    <tr style=\"text-align: right;\">\n",
              "      <th></th>\n",
              "      <th>count</th>\n",
              "    </tr>\n",
              "    <tr>\n",
              "      <th>LOF_Outliers</th>\n",
              "      <th></th>\n",
              "    </tr>\n",
              "  </thead>\n",
              "  <tbody>\n",
              "    <tr>\n",
              "      <th>False</th>\n",
              "      <td>10978</td>\n",
              "    </tr>\n",
              "    <tr>\n",
              "      <th>True</th>\n",
              "      <td>578</td>\n",
              "    </tr>\n",
              "  </tbody>\n",
              "</table>\n",
              "</div><br><label><b>dtype:</b> int64</label>"
            ]
          },
          "metadata": {},
          "execution_count": 59
        }
      ]
    },
    {
      "cell_type": "markdown",
      "source": [
        "### **d) Predictive analysis: Decision Trees**"
      ],
      "metadata": {
        "id": "wwJYQFuaADqS"
      }
    },
    {
      "cell_type": "code",
      "source": [
        "# Implement a basic Linear Regression base model [2]\n",
        "# temporary copy of the dataframe\n",
        "df_temp = df_encoded.copy()\n",
        "# clean the duplicates\n",
        "df_temp.drop_duplicates(inplace=True)\n",
        "df_temp.drop('Source IP', axis=1, inplace=True) # drop column with 1.0 correlation with target (df_temp.corr()['target'].sort_values(ascending=False))\n",
        "# create the axis\n",
        "X = df_temp.drop('target', axis=1)\n",
        "y = df_temp['target']\n",
        "\n",
        "# split the data\n",
        "X_train, X_test, y_train, y_test = train_test_split(\n",
        "    X,\n",
        "    y,\n",
        "    stratify=y,\n",
        "    test_size=0.2,\n",
        "    random_state=42)\n",
        "\n",
        "# Init model\n",
        "baseline_model = DecisionTreeClassifier(\n",
        "    criterion='gini',\n",
        "    max_depth=5,\n",
        "    class_weight='balanced',\n",
        "    random_state=42)\n",
        "baseline_scores = cross_val_score(baseline_model, X_train, y_train, cv=4, scoring='accuracy')\n",
        "\n",
        "# print the computed scores\n",
        "print(\"Cross-validation accuracy Score:\", baseline_scores.mean())"
      ],
      "metadata": {
        "colab": {
          "base_uri": "https://localhost:8080/"
        },
        "id": "D87dRtpptxzu",
        "outputId": "95791879-75a4-4117-cc10-0cd1f5197000"
      },
      "execution_count": 93,
      "outputs": [
        {
          "output_type": "stream",
          "name": "stdout",
          "text": [
            "Cross-validation accuracy Score: 0.9993002507434836\n"
          ]
        }
      ]
    },
    {
      "cell_type": "markdown",
      "source": [
        "### **e) Feature Engineering**"
      ],
      "metadata": {
        "id": "JnCZB1DKAX7r"
      }
    },
    {
      "cell_type": "code",
      "source": [
        "# Create additional features\n",
        "\n",
        "# define if port is well known range\n",
        "def is_well_known_port(port):\n",
        "  return port <= 1023\n",
        "# define if port is in registered range\n",
        "def is_registered_port(port):\n",
        "  return 1024 <= port <= 49151\n",
        "# define if port is in dynamic range\n",
        "def is_dynamic_port(port):\n",
        "  return 49152 <= port <= 65535\n",
        "\n",
        "def feature_engineering(df):\n",
        "  # is well known\n",
        "  df['Is_Well_Known_Port'] = df['Dest Port'].apply(is_well_known_port)\n",
        "  # is registered\n",
        "  df['Is_Registered_Port'] = df['Dest Port'].apply(is_registered_port)\n",
        "  # is dynamic\n",
        "  df['Is_Dynamic_Port'] = df['Dest Port'].apply(is_dynamic_port)\n",
        "  # time per size ratio feature\n",
        "  df['Time_Per_Size'] = df['Packets/Time'] / df['Packet Length']\n",
        "  return df"
      ],
      "metadata": {
        "id": "wOuAASM2yoCM"
      },
      "execution_count": 81,
      "outputs": []
    },
    {
      "cell_type": "markdown",
      "source": [
        "### **f) Empirical study**"
      ],
      "metadata": {
        "id": "ZdLuVH2uAESO"
      }
    },
    {
      "cell_type": "code",
      "source": [
        "# Empirical study\n",
        "\n",
        "# 4-fold cross validation evaluation\n",
        "def evaluate_model(model, X, y):\n",
        "  scores = cross_val_score(model, X, y, cv=4, scoring='accuracy')\n",
        "  return scores.mean()\n",
        "\n",
        "# Prepare data for analysis\n",
        "df_emp_study = df_encoded.copy()\n",
        "# drop duplicates\n",
        "df_emp_study.drop_duplicates(inplace=True)\n",
        "# drop 100% correlated column\n",
        "df_emp_study.drop('Source IP', axis=1, inplace=True)\n",
        "\n",
        "# split the dataset (train, validate and test)\n",
        "train_val, test = train_test_split(df_emp_study, test_size=0.2, random_state=42)\n",
        "train, val = train_test_split(train_val, test_size=0.25, random_state=42) # 0.25 * 0.8 = 20%\n",
        "\n",
        "# Extract variable\n",
        "X_train = train.drop('target', axis=1)\n",
        "y_train = train['target']\n",
        "X_val = val.drop('target', axis=1)\n",
        "y_val = val['target']\n",
        "X_test = test.drop('target', axis=1)\n",
        "y_test = test['target']\n",
        "\n",
        "# define variable after LOF\n",
        "outliers = LOF(X_train)\n",
        "train_no_outliers = train[~outliers]\n",
        "X_train_no_outliers = train_no_outliers.drop('target', axis=1)\n",
        "y_train_no_outliers = train_no_outliers['target']\n",
        "\n",
        "# define variable after feature engineering\n",
        "X_train_eng = feature_engineering(X_train.copy())\n",
        "X_val_eng = feature_engineering(X_val.copy())\n",
        "X_test_eng = feature_engineering(X_test.copy())\n",
        "\n",
        "# define variable after LOF and feature engineering\n",
        "X_train_both = feature_engineering(X_train_no_outliers.copy())\n",
        "X_val_both = feature_engineering(X_val)\n",
        "\n",
        "# define model\n",
        "model = DecisionTreeClassifier(\n",
        "    criterion='gini',\n",
        "    max_depth=5,\n",
        "    class_weight='balanced',\n",
        "    random_state=42)\n",
        "\n",
        "# outliers removed\n",
        "lof_score = evaluate_model(model, X_train_no_outliers, y_train_no_outliers)\n",
        "print(\"No Outliers Accuracy Score:\", lof_score)\n",
        "# feature engineering\n",
        "eng_score = evaluate_model(model, X_train_eng, y_train)\n",
        "print(\"Feature Engineering Accuracy Score:\", eng_score)\n",
        "# both outliers removed and feature engineering\n",
        "both_score = evaluate_model(model, X_train_both, y_train_no_outliers)\n",
        "print(\"Both Score:\", both_score)"
      ],
      "metadata": {
        "colab": {
          "base_uri": "https://localhost:8080/"
        },
        "id": "0IA8X-GMyot2",
        "outputId": "621e3fa7-b75f-4ef5-9c32-cfa59e84c072"
      },
      "execution_count": 90,
      "outputs": [
        {
          "output_type": "stream",
          "name": "stdout",
          "text": [
            "No Outliers Accuracy Score: 0.9998158538467585\n",
            "Feature Engineering Accuracy Score: 0.9991253183401569\n",
            "Both Score: 0.9998158538467585\n"
          ]
        }
      ]
    },
    {
      "cell_type": "code",
      "source": [
        "# final test for best performing configuration\n",
        "best_model = model.fit(X_train_both, y_train_no_outliers)\n",
        "test_score = best_model.score(X_test_eng, y_test)\n",
        "print(\"Best Model Accuracy Score on test data:\", test_score)"
      ],
      "metadata": {
        "colab": {
          "base_uri": "https://localhost:8080/"
        },
        "id": "EWDhnO6AY1yj",
        "outputId": "b5ef1631-bb1f-41e2-864c-67ccd3f15f21"
      },
      "execution_count": 92,
      "outputs": [
        {
          "output_type": "stream",
          "name": "stdout",
          "text": [
            "Best Model Accuracy Score on test data: 0.9986588139250102\n"
          ]
        }
      ]
    },
    {
      "cell_type": "markdown",
      "source": [
        "### **g) Result analysis**"
      ],
      "metadata": {
        "id": "GW71it5-AFTu"
      }
    },
    {
      "cell_type": "markdown",
      "source": [
        "Observing the results we see that all three configurations saw similar performance to the baseline model. However we notice a very slight performance decrease when implementing feature engineering (FE) which seems to indicate a poor choice of engineered features. However, when combined with LOF outlier removal the model sees a slight performance boost comared to both the baseline model and feature engineered model. We also notice that only LOF outlier removal has identical performance to the combination of LOF and FE which show the effect of outliers on the performance of the model."
      ],
      "metadata": {
        "id": "qsNT36-sypj5"
      }
    },
    {
      "cell_type": "markdown",
      "source": [
        "##**Conclusion**"
      ],
      "metadata": {
        "id": "-iD8qsSQBOKj"
      }
    },
    {
      "cell_type": "markdown",
      "source": [
        "In conclusion, this assignment overviewed the steps necessary to conduct a predictive analysis. Each step from data cleaning, encoding, EDA and outliers management and feature engineering is crucial for achieving good results such as the >99% accuracy achieved in this experiement."
      ],
      "metadata": {
        "id": "xNXtUIE1BcQI"
      }
    },
    {
      "cell_type": "markdown",
      "source": [
        "## **References**"
      ],
      "metadata": {
        "id": "VKd2DtrOApuQ"
      }
    },
    {
      "cell_type": "markdown",
      "source": [
        "Outside of the references listed below, most code found in this notebook is the result of AI code suggestions provided by default in GoogleColab based on the comments listes and fine tune with method descriptions and documentation of the methods to achieve the desired result.\n",
        "\n",
        "[1] https://pandas.pydata.org/docs/reference/api/pandas.get_dummies.html\n",
        "\n",
        "[2] ChatGPT: Prompt = I'm stuck, the output is still 1.0. The full output shows:\n",
        "```\n",
        "Cross-validation accuracy Score: 1.0\n",
        "Test Accuracy: 1.0\n",
        "              precision    recall  f1-score   support\n",
        "\n",
        "           0       1.00      1.00      1.00      1305\n",
        "           1       1.00      1.00      1.00     15844\n",
        "\n",
        "    accuracy                           1.00     17149\n",
        "   macro avg       1.00      1.00      1.00     17149\n",
        "weighted avg       1.00      1.00      1.00     17149\n",
        "```\n",
        "My code is the following:\n",
        "```\n",
        "# Implement a basic Linear Regression base model [4]\n",
        "# temporary copy of the dataframe\n",
        "df_temp = df_encoded.copy()\n",
        "# clean the duplicates\n",
        "df_temp.drop_duplicates(inplace=True)\n",
        "# create the axis\n",
        "X = df_temp.drop('target', axis=1)\n",
        "y = df_temp['target']\n",
        "\n",
        "# split the data\n",
        "X_train, X_test, y_train, y_test = train_test_split(\n",
        "    X,\n",
        "    y,\n",
        "    test_size=0.2,\n",
        "    stratify=y,\n",
        "    random_state=42)\n",
        "\n",
        "# Init model\n",
        "baseline_model = DecisionTreeClassifier(criterion='gini', max_depth=5, class_weight='balanced', random_state=42)\n",
        "baseline_scores = cross_val_score(baseline_model, X_train, y_train, cv=4, scoring='accuracy')\n",
        "\n",
        "# fit model\n",
        "baseline_model.fit(X_train, y_train)\n",
        "# make predictions on test set\n",
        "y_pred = baseline_model.predict(X_test)\n",
        "\n",
        "# compute metrics\n",
        "accuracy = accuracy_score(y_test, y_pred)\n",
        "\n",
        "# print the computed scores\n",
        "print(\"Cross-validation accuracy Score:\", baseline_scores.mean())\n",
        "print(\"Test Accuracy:\", accuracy)\n",
        "print(classification_report(y_test, y_pred))\"\n",
        "```"
      ],
      "metadata": {
        "id": "jooMmfVKAtKn"
      }
    }
  ]
}