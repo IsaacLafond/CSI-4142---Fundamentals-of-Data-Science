{
  "nbformat": 4,
  "nbformat_minor": 0,
  "metadata": {
    "colab": {
      "provenance": [],
      "authorship_tag": "ABX9TyPjiurLy2BW66jZiAni05mg"
    },
    "kernelspec": {
      "name": "python3",
      "display_name": "Python 3"
    },
    "language_info": {
      "name": "python"
    }
  },
  "cells": [
    {
      "cell_type": "code",
      "execution_count": 3,
      "metadata": {
        "id": "W8xihfc9bwDa",
        "outputId": "6955df6f-2557-43ed-af84-ce8c6df62691",
        "colab": {
          "base_uri": "https://localhost:8080/"
        }
      },
      "outputs": [
        {
          "output_type": "stream",
          "name": "stdout",
          "text": [
            "Requirement already satisfied: pandas in /usr/local/lib/python3.11/dist-packages (2.2.2)\n",
            "Requirement already satisfied: numpy>=1.23.2 in /usr/local/lib/python3.11/dist-packages (from pandas) (1.26.4)\n",
            "Requirement already satisfied: python-dateutil>=2.8.2 in /usr/local/lib/python3.11/dist-packages (from pandas) (2.8.2)\n",
            "Requirement already satisfied: pytz>=2020.1 in /usr/local/lib/python3.11/dist-packages (from pandas) (2025.1)\n",
            "Requirement already satisfied: tzdata>=2022.7 in /usr/local/lib/python3.11/dist-packages (from pandas) (2025.1)\n",
            "Requirement already satisfied: six>=1.5 in /usr/local/lib/python3.11/dist-packages (from python-dateutil>=2.8.2->pandas) (1.17.0)\n"
          ]
        }
      ],
      "source": [
        "!pip install pandas"
      ]
    },
    {
      "cell_type": "code",
      "source": [
        "# imports\n",
        "import pandas as pd"
      ],
      "metadata": {
        "id": "AIipTWGLdIri"
      },
      "execution_count": 4,
      "outputs": []
    },
    {
      "cell_type": "markdown",
      "source": [
        "# **Assignment - Data Cleaning**"
      ],
      "metadata": {
        "id": "o4e2-d3DdNiv"
      }
    },
    {
      "cell_type": "markdown",
      "source": [
        "Group: #45\n",
        "\n",
        "Isaac Lafond - 300191954"
      ],
      "metadata": {
        "id": "aZ60X4ylddOX"
      }
    },
    {
      "cell_type": "markdown",
      "source": [
        "## **Dataset 1 - Clean Data checking**"
      ],
      "metadata": {
        "id": "Pmxn6gw0djGI"
      }
    },
    {
      "cell_type": "code",
      "source": [
        "# Read dataset from public github repo\n",
        "df1 = pd.read_csv(\"https://raw.githubusercontent.com/IsaacLafond/CSI-4142---Fundamentals-of-Data-Science/main/Assignment%202/datasets/dirty_cafe_sales.csv\")"
      ],
      "metadata": {
        "id": "GGxyh8zqizlr"
      },
      "execution_count": 5,
      "outputs": []
    },
    {
      "cell_type": "markdown",
      "source": [
        "### **1) Data Type errors**"
      ],
      "metadata": {
        "id": "W0JEAf0jCZeT"
      }
    },
    {
      "cell_type": "markdown",
      "source": [
        "Data type check:\n",
        "\n",
        "In this test we verify that the data entered in the columns follow a coherent datatype and count the occurrences of incorrect datatypes."
      ],
      "metadata": {
        "id": "yx-Cs2xMCmBB"
      }
    },
    {
      "cell_type": "code",
      "source": [
        "# Parameters\n",
        "columns1 = [\"Item\", \"Quantity\", \"Price Per Unit\", \"Total Spent\", \"Payment Method\", \"Location\", \"Transaction Date\"]\n",
        "# Notice transaction ID is not include as all the values are present and unique\n",
        "\n",
        "test_column1 = \"Item\""
      ],
      "metadata": {
        "id": "Lv0lrrLOClV9"
      },
      "execution_count": 6,
      "outputs": []
    },
    {
      "cell_type": "code",
      "source": [
        "# Checker code\n",
        "df1.info()\n",
        "# List of invalid value types\n",
        "invalid = [\"ERROR\", \"UNKNOWN\"]\n",
        "\n",
        "def num_valid_categories(col, invalid):\n",
        "  # remove values from given column that aren't invalid, not na and not null and returning the count the of column\n",
        "  return df1[~df1[col].isin(invalid) & df1[col].notna() & df1[col].notnull()][col].count() #[3]\n",
        "\n",
        "def num_valid_numeric(col):\n",
        "  # Convert column to numeric and force error to be NAN which aren't counted in final column and return count\n",
        "  return pd.to_numeric(df1[col], errors=\"coerce\").count() #[1]\n",
        "\n",
        "def num_valid_date(col):\n",
        "  return pd.to_datetime(df1[col], errors=\"coerce\").count() #[2]\n",
        "\n",
        "# Dictionnary of predicate the count error values\n",
        "valid_values = {\n",
        "    \"Item\": num_valid_categories(\"Item\", invalid),\n",
        "    \"Quantity\": num_valid_numeric(\"Quantity\"),\n",
        "    \"Price Per Unit\": num_valid_numeric(\"Price Per Unit\"),\n",
        "    \"Total Spent\": num_valid_numeric(\"Total Spent\"),\n",
        "    \"Payment Method\": num_valid_categories(\"Payment Method\", invalid),\n",
        "    \"Location\": num_valid_categories(\"Location\", invalid),\n",
        "    \"Transaction Date\": num_valid_date(\"Transaction Date\")\n",
        "}\n",
        "\n",
        "valid_values[test_column1]"
      ],
      "metadata": {
        "id": "HWUOOjO4DyI_",
        "outputId": "f4a6ac84-9a0c-4eba-c047-97c49073f9c7",
        "colab": {
          "base_uri": "https://localhost:8080/"
        }
      },
      "execution_count": 7,
      "outputs": [
        {
          "output_type": "stream",
          "name": "stdout",
          "text": [
            "<class 'pandas.core.frame.DataFrame'>\n",
            "RangeIndex: 10000 entries, 0 to 9999\n",
            "Data columns (total 8 columns):\n",
            " #   Column            Non-Null Count  Dtype \n",
            "---  ------            --------------  ----- \n",
            " 0   Transaction ID    10000 non-null  object\n",
            " 1   Item              9667 non-null   object\n",
            " 2   Quantity          9862 non-null   object\n",
            " 3   Price Per Unit    9821 non-null   object\n",
            " 4   Total Spent       9827 non-null   object\n",
            " 5   Payment Method    7421 non-null   object\n",
            " 6   Location          6735 non-null   object\n",
            " 7   Transaction Date  9841 non-null   object\n",
            "dtypes: object(8)\n",
            "memory usage: 625.1+ KB\n"
          ]
        },
        {
          "output_type": "execute_result",
          "data": {
            "text/plain": [
              "9031"
            ]
          },
          "metadata": {},
          "execution_count": 7
        }
      ]
    },
    {
      "cell_type": "markdown",
      "source": [
        "**Results:**\n",
        "\n",
        "The following is the the final counts for each column after having removed invalid values from categorical and date data and remove invalid and NAN/null values from numerical data.\n",
        "\n",
        "Item: 9031\n",
        "\n",
        "Quantity: 9521\n",
        "\n",
        "Price Per Unit: 9467\n",
        "\n",
        "Total Spent: 9498\n",
        "\n",
        "Payment Method: 6822\n",
        "\n",
        "Location: 6039\n",
        "\n",
        "Transaction Date: 9540"
      ],
      "metadata": {
        "id": "MapRv2VUXHQo"
      }
    },
    {
      "cell_type": "markdown",
      "source": [
        "### **2) Range errors**"
      ],
      "metadata": {
        "id": "F6uBWhpTCm31"
      }
    },
    {
      "cell_type": "markdown",
      "source": [
        "Range check:\n",
        "\n",
        "In this test, we will verify the range of a numerical value. The range is the minimum and maximum values that an attribute can have."
      ],
      "metadata": {
        "id": "c3W_1TYZEBdd"
      }
    },
    {
      "cell_type": "code",
      "source": [
        "columns2 = [\"Quantity\", \"Price Per Unit\", \"Total Spent\", \"Payment Method\"]\n",
        "# Attribute selection\n",
        "test_attribute = \"Quantity\"\n",
        "# Minimum (e.g. 0$)\n",
        "minimum = 0\n",
        "# Maximum (e.g. 200K$)\n",
        "maximum = 10"
      ],
      "metadata": {
        "id": "qUZuzX8AECbt"
      },
      "execution_count": 26,
      "outputs": []
    },
    {
      "cell_type": "code",
      "source": [
        "df1_num = df1[[test_attribute]].copy()  # Keep it as a DataFrame\n",
        "df1_num[test_attribute] = pd.to_numeric(df1_num[test_attribute], errors=\"coerce\")\n",
        "\n",
        "df_filtered = df1_num[~(df1_num[test_attribute] > minimum) & (df1_num[test_attribute] < maximum)]\n",
        "df_filtered"
      ],
      "metadata": {
        "id": "jbmkzVN1ECs5",
        "outputId": "d8d07b8a-601f-435c-f7be-b224a597493b",
        "colab": {
          "base_uri": "https://localhost:8080/",
          "height": 89
        }
      },
      "execution_count": 28,
      "outputs": [
        {
          "output_type": "execute_result",
          "data": {
            "text/plain": [
              "Empty DataFrame\n",
              "Columns: [Quantity]\n",
              "Index: []"
            ],
            "text/html": [
              "\n",
              "  <div id=\"df-6a21f79b-114d-4be5-9b9b-78e3bb1b2970\" class=\"colab-df-container\">\n",
              "    <div>\n",
              "<style scoped>\n",
              "    .dataframe tbody tr th:only-of-type {\n",
              "        vertical-align: middle;\n",
              "    }\n",
              "\n",
              "    .dataframe tbody tr th {\n",
              "        vertical-align: top;\n",
              "    }\n",
              "\n",
              "    .dataframe thead th {\n",
              "        text-align: right;\n",
              "    }\n",
              "</style>\n",
              "<table border=\"1\" class=\"dataframe\">\n",
              "  <thead>\n",
              "    <tr style=\"text-align: right;\">\n",
              "      <th></th>\n",
              "      <th>Quantity</th>\n",
              "    </tr>\n",
              "  </thead>\n",
              "  <tbody>\n",
              "  </tbody>\n",
              "</table>\n",
              "</div>\n",
              "    <div class=\"colab-df-buttons\">\n",
              "\n",
              "  <div class=\"colab-df-container\">\n",
              "    <button class=\"colab-df-convert\" onclick=\"convertToInteractive('df-6a21f79b-114d-4be5-9b9b-78e3bb1b2970')\"\n",
              "            title=\"Convert this dataframe to an interactive table.\"\n",
              "            style=\"display:none;\">\n",
              "\n",
              "  <svg xmlns=\"http://www.w3.org/2000/svg\" height=\"24px\" viewBox=\"0 -960 960 960\">\n",
              "    <path d=\"M120-120v-720h720v720H120Zm60-500h600v-160H180v160Zm220 220h160v-160H400v160Zm0 220h160v-160H400v160ZM180-400h160v-160H180v160Zm440 0h160v-160H620v160ZM180-180h160v-160H180v160Zm440 0h160v-160H620v160Z\"/>\n",
              "  </svg>\n",
              "    </button>\n",
              "\n",
              "  <style>\n",
              "    .colab-df-container {\n",
              "      display:flex;\n",
              "      gap: 12px;\n",
              "    }\n",
              "\n",
              "    .colab-df-convert {\n",
              "      background-color: #E8F0FE;\n",
              "      border: none;\n",
              "      border-radius: 50%;\n",
              "      cursor: pointer;\n",
              "      display: none;\n",
              "      fill: #1967D2;\n",
              "      height: 32px;\n",
              "      padding: 0 0 0 0;\n",
              "      width: 32px;\n",
              "    }\n",
              "\n",
              "    .colab-df-convert:hover {\n",
              "      background-color: #E2EBFA;\n",
              "      box-shadow: 0px 1px 2px rgba(60, 64, 67, 0.3), 0px 1px 3px 1px rgba(60, 64, 67, 0.15);\n",
              "      fill: #174EA6;\n",
              "    }\n",
              "\n",
              "    .colab-df-buttons div {\n",
              "      margin-bottom: 4px;\n",
              "    }\n",
              "\n",
              "    [theme=dark] .colab-df-convert {\n",
              "      background-color: #3B4455;\n",
              "      fill: #D2E3FC;\n",
              "    }\n",
              "\n",
              "    [theme=dark] .colab-df-convert:hover {\n",
              "      background-color: #434B5C;\n",
              "      box-shadow: 0px 1px 3px 1px rgba(0, 0, 0, 0.15);\n",
              "      filter: drop-shadow(0px 1px 2px rgba(0, 0, 0, 0.3));\n",
              "      fill: #FFFFFF;\n",
              "    }\n",
              "  </style>\n",
              "\n",
              "    <script>\n",
              "      const buttonEl =\n",
              "        document.querySelector('#df-6a21f79b-114d-4be5-9b9b-78e3bb1b2970 button.colab-df-convert');\n",
              "      buttonEl.style.display =\n",
              "        google.colab.kernel.accessAllowed ? 'block' : 'none';\n",
              "\n",
              "      async function convertToInteractive(key) {\n",
              "        const element = document.querySelector('#df-6a21f79b-114d-4be5-9b9b-78e3bb1b2970');\n",
              "        const dataTable =\n",
              "          await google.colab.kernel.invokeFunction('convertToInteractive',\n",
              "                                                    [key], {});\n",
              "        if (!dataTable) return;\n",
              "\n",
              "        const docLinkHtml = 'Like what you see? Visit the ' +\n",
              "          '<a target=\"_blank\" href=https://colab.research.google.com/notebooks/data_table.ipynb>data table notebook</a>'\n",
              "          + ' to learn more about interactive tables.';\n",
              "        element.innerHTML = '';\n",
              "        dataTable['output_type'] = 'display_data';\n",
              "        await google.colab.output.renderOutput(dataTable, element);\n",
              "        const docLink = document.createElement('div');\n",
              "        docLink.innerHTML = docLinkHtml;\n",
              "        element.appendChild(docLink);\n",
              "      }\n",
              "    </script>\n",
              "  </div>\n",
              "\n",
              "\n",
              "  <div id=\"id_9880bab4-6b9c-486e-99d7-82eadec6d7c7\">\n",
              "    <style>\n",
              "      .colab-df-generate {\n",
              "        background-color: #E8F0FE;\n",
              "        border: none;\n",
              "        border-radius: 50%;\n",
              "        cursor: pointer;\n",
              "        display: none;\n",
              "        fill: #1967D2;\n",
              "        height: 32px;\n",
              "        padding: 0 0 0 0;\n",
              "        width: 32px;\n",
              "      }\n",
              "\n",
              "      .colab-df-generate:hover {\n",
              "        background-color: #E2EBFA;\n",
              "        box-shadow: 0px 1px 2px rgba(60, 64, 67, 0.3), 0px 1px 3px 1px rgba(60, 64, 67, 0.15);\n",
              "        fill: #174EA6;\n",
              "      }\n",
              "\n",
              "      [theme=dark] .colab-df-generate {\n",
              "        background-color: #3B4455;\n",
              "        fill: #D2E3FC;\n",
              "      }\n",
              "\n",
              "      [theme=dark] .colab-df-generate:hover {\n",
              "        background-color: #434B5C;\n",
              "        box-shadow: 0px 1px 3px 1px rgba(0, 0, 0, 0.15);\n",
              "        filter: drop-shadow(0px 1px 2px rgba(0, 0, 0, 0.3));\n",
              "        fill: #FFFFFF;\n",
              "      }\n",
              "    </style>\n",
              "    <button class=\"colab-df-generate\" onclick=\"generateWithVariable('df_filtered')\"\n",
              "            title=\"Generate code using this dataframe.\"\n",
              "            style=\"display:none;\">\n",
              "\n",
              "  <svg xmlns=\"http://www.w3.org/2000/svg\" height=\"24px\"viewBox=\"0 0 24 24\"\n",
              "       width=\"24px\">\n",
              "    <path d=\"M7,19H8.4L18.45,9,17,7.55,7,17.6ZM5,21V16.75L18.45,3.32a2,2,0,0,1,2.83,0l1.4,1.43a1.91,1.91,0,0,1,.58,1.4,1.91,1.91,0,0,1-.58,1.4L9.25,21ZM18.45,9,17,7.55Zm-12,3A5.31,5.31,0,0,0,4.9,8.1,5.31,5.31,0,0,0,1,6.5,5.31,5.31,0,0,0,4.9,4.9,5.31,5.31,0,0,0,6.5,1,5.31,5.31,0,0,0,8.1,4.9,5.31,5.31,0,0,0,12,6.5,5.46,5.46,0,0,0,6.5,12Z\"/>\n",
              "  </svg>\n",
              "    </button>\n",
              "    <script>\n",
              "      (() => {\n",
              "      const buttonEl =\n",
              "        document.querySelector('#id_9880bab4-6b9c-486e-99d7-82eadec6d7c7 button.colab-df-generate');\n",
              "      buttonEl.style.display =\n",
              "        google.colab.kernel.accessAllowed ? 'block' : 'none';\n",
              "\n",
              "      buttonEl.onclick = () => {\n",
              "        google.colab.notebook.generateWithVariable('df_filtered');\n",
              "      }\n",
              "      })();\n",
              "    </script>\n",
              "  </div>\n",
              "\n",
              "    </div>\n",
              "  </div>\n"
            ],
            "application/vnd.google.colaboratory.intrinsic+json": {
              "type": "dataframe",
              "variable_name": "df_filtered",
              "summary": "{\n  \"name\": \"df_filtered\",\n  \"rows\": 0,\n  \"fields\": [\n    {\n      \"column\": \"Quantity\",\n      \"properties\": {\n        \"dtype\": \"number\",\n        \"std\": null,\n        \"min\": null,\n        \"max\": null,\n        \"num_unique_values\": 0,\n        \"samples\": [],\n        \"semantic_type\": \"\",\n        \"description\": \"\"\n      }\n    }\n  ]\n}"
            }
          },
          "metadata": {},
          "execution_count": 28
        }
      ]
    },
    {
      "cell_type": "markdown",
      "source": [
        "### **3) Format errors**"
      ],
      "metadata": {
        "id": "qArbQhQeCtor"
      }
    },
    {
      "cell_type": "markdown",
      "source": [],
      "metadata": {
        "id": "BgTGWnbVED4y"
      }
    },
    {
      "cell_type": "code",
      "source": [],
      "metadata": {
        "id": "445lxRJoEEPL"
      },
      "execution_count": null,
      "outputs": []
    },
    {
      "cell_type": "code",
      "source": [],
      "metadata": {
        "id": "eA7xOrg1EEkz"
      },
      "execution_count": null,
      "outputs": []
    },
    {
      "cell_type": "markdown",
      "source": [
        "### **4) Consistency errors**"
      ],
      "metadata": {
        "id": "cvA-aBTcCx0H"
      }
    },
    {
      "cell_type": "markdown",
      "source": [],
      "metadata": {
        "id": "pQddrl6sEFho"
      }
    },
    {
      "cell_type": "code",
      "source": [],
      "metadata": {
        "id": "-7ZDLOSmEF9f"
      },
      "execution_count": null,
      "outputs": []
    },
    {
      "cell_type": "code",
      "source": [],
      "metadata": {
        "id": "emTU1dB_EGNo"
      },
      "execution_count": null,
      "outputs": []
    },
    {
      "cell_type": "markdown",
      "source": [
        "### **5) Uniqueness errors**"
      ],
      "metadata": {
        "id": "CfLrvPV-CyKX"
      }
    },
    {
      "cell_type": "markdown",
      "source": [
        "### **6) Presence errors**"
      ],
      "metadata": {
        "id": "83YPvbUqCyhB"
      }
    },
    {
      "cell_type": "markdown",
      "source": [
        "### **7) Length errors**"
      ],
      "metadata": {
        "id": "0XA5DvdrCzyr"
      }
    },
    {
      "cell_type": "markdown",
      "source": [
        "### **8) Look-up errors**"
      ],
      "metadata": {
        "id": "W8ylszuNC0Fr"
      }
    },
    {
      "cell_type": "markdown",
      "source": [
        "### **9) Exact duplicate errors**"
      ],
      "metadata": {
        "id": "ZQ0LY0BbC0Ze"
      }
    },
    {
      "cell_type": "markdown",
      "source": [
        "### **10) Near duplicate errors**"
      ],
      "metadata": {
        "id": "oIXipxxFC0r-"
      }
    },
    {
      "cell_type": "markdown",
      "source": [
        "# **References**"
      ],
      "metadata": {
        "id": "Fi-MnObYS7kz"
      }
    },
    {
      "cell_type": "markdown",
      "source": [
        "[1] https://pandas.pydata.org/pandas-docs/stable/reference/api/pandas.to_numeric.html\n",
        "\n",
        "[2] https://pandas.pydata.org/pandas-docs/stable/reference/api/pandas.to_datetime.html\n",
        "\n",
        "[3] ChatGPT: Prompt = \"Pandas allows for removing values from a dataset based on condition like the following: df[df[\"age\"] > 0] to remove age values 0 or less. Can you write a similar condition which removes values that are null or equal to the values in the following list: [\"ERROR\", \"UNKNOWN\"]?\"\n",
        "\n"
      ],
      "metadata": {
        "id": "FJHycIxgUOJw"
      }
    }
  ]
}